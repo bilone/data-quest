{
 "cells": [
  {
   "cell_type": "markdown",
   "metadata": {},
   "source": [
    "## 2: Parsing the file\n",
    "### Instructions\n",
    "Open \"la_weather.csv\", parse it, and assign the result to weather_data.\n",
    "### Answer"
   ]
  },
  {
   "cell_type": "code",
   "execution_count": 39,
   "metadata": {
    "collapsed": false
   },
   "outputs": [
    {
     "name": "stdout",
     "output_type": "stream",
     "text": [
      "[['Day', 'Type of Weather'], ['1', 'Sunny'], ['2', 'Sunny'], ['3', 'Sunny'], ['4', 'Sunny'], ['5', 'Sunny'], ['6', 'Rain'], ['7', 'Sunny'], ['8', 'Sunny'], ['9', 'Fog']]\n"
     ]
    }
   ],
   "source": [
    "# Let's parse the data from the last mission as an example.\n",
    "# First, we open the wait times file from the last mission.\n",
    "f = open(\"crime_rates.csv\", 'r')\n",
    "data = f.read()\n",
    "rows = data.split('\\n')\n",
    "full_data = []\n",
    "for row in rows:\n",
    "    split_row = row.split(\",\")\n",
    "    full_data.append(split_row)\n",
    "\n",
    "weather_data = []\n",
    "f = open(\"la_weather.csv\", 'r')\n",
    "data = f.read()\n",
    "\n",
    "rows = data.split('\\n')\n",
    "full_data = []\n",
    "for row in rows:\n",
    "    split_row = row.split(\",\")\n",
    "    weather_data.append(split_row)\n",
    "    \n",
    "print(weather_data[:10])"
   ]
  },
  {
   "cell_type": "markdown",
   "metadata": {},
   "source": [
    "## 3: Getting a single column from the data\n",
    "### Instructions\n",
    "Get all of the values in the second column and append them to weather_column.\n",
    "### Answer"
   ]
  },
  {
   "cell_type": "code",
   "execution_count": 40,
   "metadata": {
    "collapsed": false
   },
   "outputs": [
    {
     "name": "stdout",
     "output_type": "stream",
     "text": [
      "[2, 4, 6, 8]\n",
      "['Type of Weather', 'Sunny', 'Sunny', 'Sunny', 'Sunny', 'Sunny', 'Rain', 'Sunny', 'Sunny', 'Fog', 'Rain', 'Sunny', 'Sunny', 'Sunny', 'Sunny', 'Sunny', 'Fog', 'Sunny', 'Sunny', 'Sunny', 'Sunny', 'Sunny', 'Sunny', 'Rain', 'Fog-Rain', 'Rain', 'Fog-Rain', 'Rain', 'Sunny', 'Sunny', 'Sunny', 'Sunny', 'Sunny', 'Rain', 'Sunny', 'Fog', 'Fog', 'Sunny', 'Sunny', 'Rain', 'Sunny', 'Sunny', 'Sunny', 'Sunny', 'Sunny', 'Fog', 'Sunny', 'Sunny', 'Fog', 'Sunny', 'Rain', 'Sunny', 'Sunny', 'Sunny', 'Sunny', 'Sunny', 'Sunny', 'Sunny', 'Sunny', 'Sunny', 'Sunny', 'Sunny', 'Rain', 'Fog', 'Fog', 'Sunny', 'Rain', 'Rain', 'Sunny', 'Sunny', 'Sunny', 'Fog', 'Fog', 'Fog', 'Fog', 'Fog', 'Sunny', 'Sunny', 'Sunny', 'Sunny', 'Sunny', 'Fog', 'Sunny', 'Sunny', 'Fog', 'Sunny', 'Fog', 'Fog', 'Fog', 'Fog', 'Rain', 'Sunny', 'Fog', 'Fog', 'Fog', 'Sunny', 'Sunny', 'Sunny', 'Sunny', 'Fog', 'Sunny', 'Sunny', 'Sunny', 'Sunny', 'Sunny', 'Rain', 'Sunny', 'Sunny', 'Sunny', 'Sunny', 'Fog', 'Fog', 'Fog', 'Sunny', 'Rain', 'Sunny', 'Sunny', 'Sunny', 'Fog', 'Fog', 'Sunny', 'Sunny', 'Fog', 'Sunny', 'Sunny', 'Rain', 'Rain', 'Rain', 'Sunny', 'Thunderstorm', 'Fog', 'Sunny', 'Fog', 'Sunny', 'Fog', 'Fog', 'Sunny', 'Sunny', 'Sunny', 'Sunny', 'Fog', 'Fog', 'Sunny', 'Sunny', 'Sunny', 'Sunny', 'Sunny', 'Sunny', 'Sunny', 'Fog', 'Fog', 'Sunny', 'Sunny', 'Sunny', 'Sunny', 'Sunny', 'Sunny', 'Fog', 'Fog', 'Sunny', 'Sunny', 'Sunny', 'Sunny', 'Fog', 'Fog', 'Fog', 'Sunny', 'Sunny', 'Fog', 'Fog', 'Fog', 'Sunny', 'Sunny', 'Sunny', 'Sunny', 'Sunny', 'Fog', 'Fog', 'Fog', 'Fog', 'Fog', 'Sunny', 'Fog', 'Fog', 'Fog', 'Fog', 'Sunny', 'Sunny', 'Sunny', 'Sunny', 'Fog', 'Sunny', 'Fog-Rain', 'Fog', 'Fog', 'Sunny', 'Fog', 'Sunny', 'Fog', 'Fog', 'Fog', 'Sunny', 'Rain', 'Fog', 'Fog', 'Fog', 'Fog', 'Fog-Rain', 'Sunny', 'Sunny', 'Fog', 'Sunny', 'Sunny', 'Fog', 'Fog', 'Sunny', 'Sunny', 'Fog', 'Fog', 'Fog', 'Sunny', 'Sunny', 'Sunny', 'Sunny', 'Fog', 'Fog', 'Fog', 'Fog', 'Fog', 'Fog', 'Fog', 'Fog', 'Fog', 'Fog', 'Sunny', 'Fog', 'Fog', 'Fog', 'Fog', 'Sunny', 'Fog', 'Fog', 'Fog', 'Sunny', 'Sunny', 'Fog', 'Sunny', 'Fog', 'Fog', 'Sunny', 'Sunny', 'Fog', 'Fog', 'Fog', 'Sunny', 'Sunny', 'Fog', 'Fog', 'Sunny', 'Fog', 'Fog', 'Fog', 'Fog', 'Fog', 'Sunny', 'Sunny', 'Sunny', 'Fog', 'Sunny', 'Sunny', 'Sunny', 'Sunny', 'Sunny', 'Sunny', 'Fog', 'Sunny', 'Fog', 'Sunny', 'Sunny', 'Sunny', 'Sunny', 'Fog', 'Rain', 'Sunny', 'Sunny', 'Sunny', 'Sunny', 'Sunny', 'Sunny', 'Sunny', 'Sunny', 'Sunny', 'Fog', 'Fog', 'Fog', 'Fog', 'Sunny', 'Sunny', 'Fog', 'Fog', 'Fog', 'Sunny', 'Sunny', 'Sunny', 'Sunny', 'Sunny', 'Sunny', 'Sunny', 'Sunny', 'Fog', 'Sunny', 'Sunny', 'Fog', 'Fog', 'Sunny', 'Fog', 'Fog', 'Sunny', 'Sunny', 'Fog', 'Sunny', 'Sunny', 'Fog', 'Sunny', 'Rain', 'Rain', 'Rain', 'Sunny', 'Sunny', 'Sunny', 'Sunny', 'Sunny', 'Sunny', 'Rain', 'Sunny', 'Sunny', 'Sunny', 'Sunny', 'Sunny', 'Sunny', 'Sunny', 'Rain', 'Sunny', 'Sunny', 'Sunny', 'Sunny', 'Fog', 'Fog', 'Sunny', 'Sunny', 'Sunny', 'Sunny', 'Sunny', 'Rain', 'Sunny', 'Sunny', 'Sunny', 'Fog', 'Sunny', 'Sunny', 'Sunny', 'Sunny', 'Sunny', 'Fog', 'Fog', 'Fog']\n"
     ]
    }
   ],
   "source": [
    "# The \"days\" column in our data isn't extremely useful for our task, so we need to just grab the second column, with the weather.\n",
    "# We looped over lists before, and this is how we will extract the second column.\n",
    "lolist = [[1,2],[3,4],[5,6],[7,8]]\n",
    "second_column = []\n",
    "for item in lolist:\n",
    "    # Each item in lolist is a list.\n",
    "    # We can get just the second column value by indexing the item.\n",
    "    value = item[1]\n",
    "    second_column.append(value)\n",
    "\n",
    "# second_column is now a list containing only values from the second column of lolist.\n",
    "print(second_column)\n",
    "\n",
    "# Let's read in our weather data again.\n",
    "weather_data = []\n",
    "f = open(\"la_weather.csv\", 'r')\n",
    "data = f.read()\n",
    "rows = data.split('\\n')\n",
    "for row in rows:\n",
    "    split_row = row.split(\",\")\n",
    "    weather_data.append(split_row)\n",
    "\n",
    "weather_column = []\n",
    "\n",
    "for row in weather_data:\n",
    "    val = row[1]\n",
    "    weather_column.append(val)\n",
    "    \n",
    "print(weather_column)"
   ]
  },
  {
   "cell_type": "markdown",
   "metadata": {
    "collapsed": true
   },
   "source": [
    "## 4: Pre-defined variables\n",
    "### Instructions\n",
    "Loop over the weather variable, and set count equal to the number of items in weather.\n",
    "### Answer"
   ]
  },
  {
   "cell_type": "code",
   "execution_count": 41,
   "metadata": {
    "collapsed": false
   },
   "outputs": [],
   "source": [
    "weather = weather_column"
   ]
  },
  {
   "cell_type": "code",
   "execution_count": 42,
   "metadata": {
    "collapsed": false
   },
   "outputs": [
    {
     "name": "stdout",
     "output_type": "stream",
     "text": [
      "Type of Weather\n",
      "366\n"
     ]
    }
   ],
   "source": [
    "# In order to make it easier to use the weather column that we just parsed, we're going to automatically include it from now on.\n",
    "# It's been specially added before our code runs.\n",
    "# We can interact with it normally -- it's a list.\n",
    "print(weather[0])\n",
    "\n",
    "count = len(weather)\n",
    "print(count)"
   ]
  },
  {
   "cell_type": "markdown",
   "metadata": {},
   "source": [
    "## 6: Practice slicing a list\n",
    "### Instructions\n",
    "Assign a slice containing index 2 and 3 from slice_me to slice1. Assign a slice containing index 1 from slice_me to slice2. Assign a slice containing index 3 and 4 from slice_me to slice3.\n",
    "### Answer"
   ]
  },
  {
   "cell_type": "code",
   "execution_count": 43,
   "metadata": {
    "collapsed": false
   },
   "outputs": [
    {
     "name": "stdout",
     "output_type": "stream",
     "text": [
      "[6, 7]\n",
      "[]\n",
      "[6]\n",
      "[4, 5] [6] [5, 6]\n"
     ]
    }
   ],
   "source": [
    "# Let's practice with some list slicing.\n",
    "a = [4,5,6,7,8]\n",
    "# New list containing index 2 and 3.\n",
    "print(a[2:4])\n",
    "# New list with no elements.\n",
    "print(a[2:2])\n",
    "# New list containing only index 2.\n",
    "print(a[2:3])\n",
    "\n",
    "slice_me = [7,6,4,5,6]\n",
    "\n",
    "slice1 = slice_me[2:4]\n",
    "slice2 = slice_me[1:2]\n",
    "slice3 = slice_me[3:]\n",
    "\n",
    "print(slice1, slice2, slice3)"
   ]
  },
  {
   "cell_type": "markdown",
   "metadata": {},
   "source": [
    "## 7: Removing our header\n",
    "### Instructions\n",
    "The weather data is in the weather variable. Slice the data and remove the header. The slice can end at 367. Assign the result to new_weather.\n",
    "### Answer"
   ]
  },
  {
   "cell_type": "code",
   "execution_count": 44,
   "metadata": {
    "collapsed": false
   },
   "outputs": [
    {
     "name": "stdout",
     "output_type": "stream",
     "text": [
      "['Sunny', 'Sunny', 'Sunny', 'Sunny', 'Sunny', 'Rain', 'Sunny', 'Sunny', 'Fog', 'Rain', 'Sunny', 'Sunny', 'Sunny', 'Sunny', 'Sunny', 'Fog', 'Sunny', 'Sunny', 'Sunny', 'Sunny', 'Sunny', 'Sunny', 'Rain', 'Fog-Rain', 'Rain', 'Fog-Rain', 'Rain', 'Sunny', 'Sunny', 'Sunny', 'Sunny', 'Sunny', 'Rain', 'Sunny', 'Fog', 'Fog', 'Sunny', 'Sunny', 'Rain', 'Sunny', 'Sunny', 'Sunny', 'Sunny', 'Sunny', 'Fog', 'Sunny', 'Sunny', 'Fog', 'Sunny', 'Rain', 'Sunny', 'Sunny', 'Sunny', 'Sunny', 'Sunny', 'Sunny', 'Sunny', 'Sunny', 'Sunny', 'Sunny', 'Sunny', 'Rain', 'Fog', 'Fog', 'Sunny', 'Rain', 'Rain', 'Sunny', 'Sunny', 'Sunny', 'Fog', 'Fog', 'Fog', 'Fog', 'Fog', 'Sunny', 'Sunny', 'Sunny', 'Sunny', 'Sunny', 'Fog', 'Sunny', 'Sunny', 'Fog', 'Sunny', 'Fog', 'Fog', 'Fog', 'Fog', 'Rain', 'Sunny', 'Fog', 'Fog', 'Fog', 'Sunny', 'Sunny', 'Sunny', 'Sunny', 'Fog', 'Sunny', 'Sunny', 'Sunny', 'Sunny', 'Sunny', 'Rain', 'Sunny', 'Sunny', 'Sunny', 'Sunny', 'Fog', 'Fog', 'Fog', 'Sunny', 'Rain', 'Sunny', 'Sunny', 'Sunny', 'Fog', 'Fog', 'Sunny', 'Sunny', 'Fog', 'Sunny', 'Sunny', 'Rain', 'Rain', 'Rain', 'Sunny', 'Thunderstorm', 'Fog', 'Sunny', 'Fog', 'Sunny', 'Fog', 'Fog', 'Sunny', 'Sunny', 'Sunny', 'Sunny', 'Fog', 'Fog', 'Sunny', 'Sunny', 'Sunny', 'Sunny', 'Sunny', 'Sunny', 'Sunny', 'Fog', 'Fog', 'Sunny', 'Sunny', 'Sunny', 'Sunny', 'Sunny', 'Sunny', 'Fog', 'Fog', 'Sunny', 'Sunny', 'Sunny', 'Sunny', 'Fog', 'Fog', 'Fog', 'Sunny', 'Sunny', 'Fog', 'Fog', 'Fog', 'Sunny', 'Sunny', 'Sunny', 'Sunny', 'Sunny', 'Fog', 'Fog', 'Fog', 'Fog', 'Fog', 'Sunny', 'Fog', 'Fog', 'Fog', 'Fog', 'Sunny', 'Sunny', 'Sunny', 'Sunny', 'Fog', 'Sunny', 'Fog-Rain', 'Fog', 'Fog', 'Sunny', 'Fog', 'Sunny', 'Fog', 'Fog', 'Fog', 'Sunny', 'Rain', 'Fog', 'Fog', 'Fog', 'Fog', 'Fog-Rain', 'Sunny', 'Sunny', 'Fog', 'Sunny', 'Sunny', 'Fog', 'Fog', 'Sunny', 'Sunny', 'Fog', 'Fog', 'Fog', 'Sunny', 'Sunny', 'Sunny', 'Sunny', 'Fog', 'Fog', 'Fog', 'Fog', 'Fog', 'Fog', 'Fog', 'Fog', 'Fog', 'Fog', 'Sunny', 'Fog', 'Fog', 'Fog', 'Fog', 'Sunny', 'Fog', 'Fog', 'Fog', 'Sunny', 'Sunny', 'Fog', 'Sunny', 'Fog', 'Fog', 'Sunny', 'Sunny', 'Fog', 'Fog', 'Fog', 'Sunny', 'Sunny', 'Fog', 'Fog', 'Sunny', 'Fog', 'Fog', 'Fog', 'Fog', 'Fog', 'Sunny', 'Sunny', 'Sunny', 'Fog', 'Sunny', 'Sunny', 'Sunny', 'Sunny', 'Sunny', 'Sunny', 'Fog', 'Sunny', 'Fog', 'Sunny', 'Sunny', 'Sunny', 'Sunny', 'Fog', 'Rain', 'Sunny', 'Sunny', 'Sunny', 'Sunny', 'Sunny', 'Sunny', 'Sunny', 'Sunny', 'Sunny', 'Fog', 'Fog', 'Fog', 'Fog', 'Sunny', 'Sunny', 'Fog', 'Fog', 'Fog', 'Sunny', 'Sunny', 'Sunny', 'Sunny', 'Sunny', 'Sunny', 'Sunny', 'Sunny', 'Fog', 'Sunny', 'Sunny', 'Fog', 'Fog', 'Sunny', 'Fog', 'Fog', 'Sunny', 'Sunny', 'Fog', 'Sunny', 'Sunny', 'Fog', 'Sunny', 'Rain', 'Rain', 'Rain', 'Sunny', 'Sunny', 'Sunny', 'Sunny', 'Sunny', 'Sunny', 'Rain', 'Sunny', 'Sunny', 'Sunny', 'Sunny', 'Sunny', 'Sunny', 'Sunny', 'Rain', 'Sunny', 'Sunny', 'Sunny', 'Sunny', 'Fog', 'Fog', 'Sunny', 'Sunny', 'Sunny', 'Sunny', 'Sunny', 'Rain', 'Sunny', 'Sunny', 'Sunny', 'Fog', 'Sunny', 'Sunny', 'Sunny', 'Sunny', 'Sunny', 'Fog', 'Fog', 'Fog']\n"
     ]
    }
   ],
   "source": [
    "new_weather = weather[1:]\n",
    "print(new_weather)"
   ]
  },
  {
   "cell_type": "markdown",
   "metadata": {},
   "source": [
    "## 9: Making a dictionary\n",
    "### Instructions\n",
    "Assign the value 5 to the key \"test\" in dictionary_two. Assign the value \"hello\" to the key 10 in dictionary_two.\n",
    "### Answer"
   ]
  },
  {
   "cell_type": "code",
   "execution_count": 45,
   "metadata": {
    "collapsed": false
   },
   "outputs": [
    {
     "name": "stdout",
     "output_type": "stream",
     "text": [
      "{'key_one': 2}\n",
      "{10: 5, 5.2: 'hello', 'key_one': 2}\n",
      "{'test': 5, 10: 'hello'}\n"
     ]
    }
   ],
   "source": [
    "# We can make a dictionary with curly braces.\n",
    "dictionary_one = {}\n",
    "\n",
    "# The we can add keys and values.\n",
    "dictionary_one[\"key_one\"] = 2\n",
    "print(dictionary_one)\n",
    "\n",
    "# Keys and values can be anything.\n",
    "# And dictionaries can have multiple keys\n",
    "dictionary_one[10] = 5\n",
    "dictionary_one[5.2] = \"hello\"\n",
    "print(dictionary_one)\n",
    "\n",
    "dictionary_two = {\n",
    "    \"test\": 5,\n",
    "    10: \"hello\"\n",
    "}\n",
    "\n",
    "print(dictionary_two)\n"
   ]
  },
  {
   "cell_type": "markdown",
   "metadata": {},
   "source": [
    "## 10: Indexing a dictionary\n",
    "### Instructions\n",
    "Assign the value in \"key1\" in dictionary_two to a. Assign the value in \"key2\" in dictionary_two to b. Assign the value in \"key3\" in dictionary_two to c.\n",
    "### Answer"
   ]
  },
  {
   "cell_type": "code",
   "execution_count": 46,
   "metadata": {
    "collapsed": false
   },
   "outputs": [
    {
     "name": "stdout",
     "output_type": "stream",
     "text": [
      "10\n",
      "fly\n",
      "high 10 5.6\n"
     ]
    }
   ],
   "source": [
    "dictionary_one = {}\n",
    "dictionary_one[\"test\"] = 10\n",
    "dictionary_one[\"key\"] = \"fly\"\n",
    "# We can retrieve values from dictionaries with square brackets.\n",
    "print(dictionary_one[\"test\"])\n",
    "print(dictionary_one[\"key\"])\n",
    "\n",
    "dictionary_two = {}\n",
    "dictionary_two[\"key1\"] = \"high\"\n",
    "dictionary_two[\"key2\"] = 10\n",
    "dictionary_two[\"key3\"] = 5.6\n",
    "\n",
    "a, b, c = dictionary_two[\"key1\"], dictionary_two[\"key2\"], dictionary_two[\"key3\"]\n",
    "print(a, b, c)"
   ]
  },
  {
   "cell_type": "markdown",
   "metadata": {},
   "source": [
    "## 11: Defining a dictionary with values\n",
    "### Instructions\n",
    "Make a dictionary c with the keys 7, 8, and 9 corresponding to the values \"raven\", \"goose\", and \"duck\". Make a dictionary d with the keys \"morning\", \"afternoon\", \"evening\", and \"night\" corresponding to the values 9, 14, 19, and 23 respectively.\n",
    "### Answer"
   ]
  },
  {
   "cell_type": "code",
   "execution_count": 47,
   "metadata": {
    "collapsed": false
   },
   "outputs": [
    {
     "name": "stdout",
     "output_type": "stream",
     "text": [
      "10\n",
      "robin\n",
      "{8: 'goose', 9: 'duck', 7: 'raven'} {'morning': 9, 'night': 23, 'evening': 19, 'afternoon': 14}\n"
     ]
    }
   ],
   "source": [
    "# We can define dictionaries that already contain values.\n",
    "# All we do is add in keys and values separated by colons.\n",
    "# We have to separate pairs of keys and values with commas.\n",
    "a = {\"key1\": 10, \"key2\": \"indubitably\", \"key3\": \"dataquest\", 3: 5.6}\n",
    "\n",
    "# a is initialized with those keys and values, so we can access them.\n",
    "print(a[\"key1\"])\n",
    "\n",
    "# Another example\n",
    "b = {4: \"robin\", 5: \"bluebird\", 6: \"sparrow\"}\n",
    "print(b[4])\n",
    "\n",
    "c = {\n",
    "    7: \"raven\",\n",
    "    8: \"goose\",\n",
    "    9: \"duck\"\n",
    "}\n",
    "\n",
    "d = {\n",
    "    \"morning\": 9,\n",
    "    \"afternoon\": 14,\n",
    "    \"evening\": 19,\n",
    "    \"night\": 23\n",
    "}\n",
    "\n",
    "print(c, d)"
   ]
  },
  {
   "cell_type": "markdown",
   "metadata": {},
   "source": [
    "## 13: Testing if items are in a list\n",
    "### Instructions\n",
    "Check if 9 is in list2, and assign the result to c. Check if 8 is in list2, and assign the result to d. Check if -1 is in list2, and assign the result to e.\n",
    "### Answer"
   ]
  },
  {
   "cell_type": "code",
   "execution_count": 48,
   "metadata": {
    "collapsed": false
   },
   "outputs": [
    {
     "name": "stdout",
     "output_type": "stream",
     "text": [
      "True\n",
      "True\n",
      "False\n",
      "False True False\n"
     ]
    }
   ],
   "source": [
    "# We can check if values are in lists using the in statement.\n",
    "the_list = [10,60,-5,8]\n",
    "\n",
    "# This is True because 10 is in the_list\n",
    "print(10 in the_list)\n",
    "\n",
    "# This is True because -5 is in the_list\n",
    "print(-5 in the_list)\n",
    "\n",
    "# This is False because 9 isn't in the_list\n",
    "print(9 in the_list)\n",
    "\n",
    "# We can assign the results of an in statement to a variable.\n",
    "# Just like any other boolean.\n",
    "a = 7 in the_list\n",
    "\n",
    "list2 = [8, 5.6, 70, 800]\n",
    "\n",
    "c, d, e = 9 in list2, 8 in list2, -1 in list2\n",
    "\n",
    "print(c, d, e)"
   ]
  },
  {
   "cell_type": "markdown",
   "metadata": {},
   "source": [
    "## 14: More uses for the in statement\n",
    "### Instructions\n",
    "Check whether \"jupiter\" is a key in dict2 and assign the result to b. Check whether \"earth\" is a key in dict2 and assign the result to c.\n",
    "### Answer"
   ]
  },
  {
   "cell_type": "code",
   "execution_count": 49,
   "metadata": {
    "collapsed": false
   },
   "outputs": [
    {
     "name": "stdout",
     "output_type": "stream",
     "text": [
      "True\n",
      "False\n",
      "True\n",
      "False True\n"
     ]
    }
   ],
   "source": [
    "# We can check if a key is in a dictionary with the in statement.\n",
    "the_dict = {\"robin\": \"red\", \"cardinal\": \"red\", \"oriole\": \"orange\", \"lark\": \"blue\"}\n",
    "\n",
    "# This is True\n",
    "print(\"robin\" in the_dict)\n",
    "\n",
    "# This is False\n",
    "print(\"crow\" in the_dict)\n",
    "\n",
    "# We can also assign the boolean to a variable\n",
    "a = \"cardinal\" in the_dict\n",
    "print(a)\n",
    "\n",
    "dict2 = {\"mercury\": 1, \"venus\": 2, \"earth\": 3, \"mars\": 4}\n",
    "\n",
    "b = \"jupiter\" in dict2\n",
    "c = \"earth\" in dict2\n",
    "\n",
    "print(b, c)"
   ]
  },
  {
   "cell_type": "markdown",
   "metadata": {},
   "source": [
    "## 16: Practicing with the else statement\n",
    "### Instructions\n",
    "Write an if statement that prints \"It's hot!\" when the season is \"Summer\" Add an else statement to the if that prints \"It might be hot!\".\n",
    "### Answer"
   ]
  },
  {
   "cell_type": "code",
   "execution_count": 50,
   "metadata": {
    "collapsed": false
   },
   "outputs": [
    {
     "name": "stdout",
     "output_type": "stream",
     "text": [
      "Not 7!\n",
      "Nintendo is the best!\n",
      "It might be hot!\n"
     ]
    }
   ],
   "source": [
    "# The code in an else statement will be executed if the if statement boolean is False.\n",
    "# This will print \"Not 7!\"\n",
    "a = 6\n",
    "# a doesn't equal 7, so this is False.\n",
    "if a == 7:\n",
    "    print(a)\n",
    "else:\n",
    "    print(\"Not 7!\")\n",
    "\n",
    "# This will print \"Nintendo is the best!\"\n",
    "video_game = \"Mario\"\n",
    "# video_game is \"Mario\", so this is True\n",
    "if video_game == \"Mario\":\n",
    "    print(\"Nintendo is the best!\")\n",
    "else:\n",
    "    print(\"Sony is the best!\")\n",
    "\n",
    "season = \"Spring\"\n",
    "\n",
    "if season == \"Summer\":\n",
    "    print(\"It's hot!\")\n",
    "else:\n",
    "    print(\"It might be hot!\")"
   ]
  },
  {
   "cell_type": "markdown",
   "metadata": {},
   "source": [
    "## 17: Counting with dictionaries\n",
    "### Instructions\n",
    "Count how many times each presidential last name appears in us_presidents. Assign the counts to us_president_counts.\n",
    "### Answer"
   ]
  },
  {
   "cell_type": "code",
   "execution_count": 51,
   "metadata": {
    "collapsed": false
   },
   "outputs": [
    {
     "name": "stdout",
     "output_type": "stream",
     "text": [
      "{'grape': 2, 'tomato': 1, 'apple': 3, 'potato': 1, 'orange': 2}\n",
      "{'Clinton': 1, 'Taft': 1, 'Wilson': 1, 'Harrison': 1, 'Obama': 1, 'Roosevelt': 2, 'Adams': 2, 'Bush': 2}\n"
     ]
    }
   ],
   "source": [
    "# We can count how many times items appear in a list using dictionaries.\n",
    "pantry = [\"apple\", \"orange\", \"grape\", \"apple\", \"orange\", \"apple\", \"tomato\", \"potato\", \"grape\"]\n",
    "\n",
    "# Create an empty dictionary\n",
    "pantry_counts = {}\n",
    "# Loop through the whole list\n",
    "for item in pantry:\n",
    "    # If the list item is already a key in the dictionary, then add 1 to the value of that key.\n",
    "    # This is because we've seen the item again, so our count goes up.\n",
    "    if item in pantry_counts:\n",
    "        pantry_counts[item] = pantry_counts[item] + 1\n",
    "    else:\n",
    "        # If the item isn't already a key in the count dictionary, then add the key, and set the value to 1.\n",
    "        # We set the value to 1 because we are seeing the item, so it's occured once already in the list.\n",
    "        pantry_counts[item] = 1\n",
    "print(pantry_counts)\n",
    "\n",
    "us_presidents = [\"Adams\", \"Bush\", \"Clinton\", \"Obama\", \"Harrison\", \"Taft\", \"Bush\", \"Adams\", \"Wilson\", \"Roosevelt\", \"Roosevelt\"]\n",
    "\n",
    "###################\n",
    "# answer #1\n",
    "us_president_counts = {}\n",
    "\n",
    "for p in us_presidents:\n",
    "    if p not in us_president_counts:\n",
    "        us_president_counts[p] = 0\n",
    "    us_president_counts[p] += 1\n",
    "\n",
    "####################\n",
    "# answer #2\n",
    "us_president_counts = dict([(_, 0) for _ in set(us_presidents) ])\n",
    "\n",
    "for p in us_presidents:\n",
    "    us_president_counts[p] += 1\n",
    "\n",
    "\n",
    "\n",
    "print(us_president_counts)"
   ]
  },
  {
   "cell_type": "markdown",
   "metadata": {},
   "source": [
    "## 18: Counting the weather!\n",
    "### Instructions\n",
    "The weather column, minus the header, has been loaded into the weather variable. Count up how many times each type of weather occurs. Store the counts in weather_counts.\n",
    "### Answer"
   ]
  },
  {
   "cell_type": "code",
   "execution_count": 55,
   "metadata": {
    "collapsed": true
   },
   "outputs": [],
   "source": [
    "weather = weather_column[1:]"
   ]
  },
  {
   "cell_type": "code",
   "execution_count": 58,
   "metadata": {
    "collapsed": false
   },
   "outputs": [
    {
     "name": "stdout",
     "output_type": "stream",
     "text": [
      "defaultdict(<function <lambda> at 0x10443d6a8>, {'Sunny': 210, 'Fog-Rain': 4, 'Fog': 125, 'Thunderstorm': 1, 'Rain': 25})\n"
     ]
    }
   ],
   "source": [
    "# Our weather column, minus the header, is assigned to the weather variable.\n",
    "from collections import defaultdict\n",
    "weather_counts = defaultdict(lambda: 0)\n",
    "\n",
    "for w in weather:\n",
    "    if w not in weather_counts:\n",
    "        weather_counts[w] = 0\n",
    "    weather_counts[w] += 1\n",
    "    \n",
    "print(weather_counts)"
   ]
  },
  {
   "cell_type": "code",
   "execution_count": null,
   "metadata": {
    "collapsed": true
   },
   "outputs": [],
   "source": []
  }
 ],
 "metadata": {
  "kernelspec": {
   "display_name": "Python 3",
   "language": "python",
   "name": "python3"
  },
  "language_info": {
   "codemirror_mode": {
    "name": "ipython",
    "version": 3
   },
   "file_extension": ".py",
   "mimetype": "text/x-python",
   "name": "python",
   "nbconvert_exporter": "python",
   "pygments_lexer": "ipython3",
   "version": "3.5.1"
  }
 },
 "nbformat": 4,
 "nbformat_minor": 0
}
