{
 "cells": [
  {
   "cell_type": "markdown",
   "metadata": {},
   "source": [
    "## 2: Reading the file in\n",
    "### Instructions\n",
    "The story is stored in the \"story.txt\" file. Open the file and read the contents into the story variable.\n",
    "### Answer"
   ]
  },
  {
   "cell_type": "code",
   "execution_count": 62,
   "metadata": {
    "collapsed": false
   },
   "outputs": [
    {
     "name": "stdout",
     "output_type": "stream",
     "text": [
      "There was once a great and noble frmer named Julius.  He was the best farmer in his village, and prabably even the whole world.  One day, he decidid to grw potatoes.\n",
      "\n",
      " Julius knew that potatoes were hard to grow, so he kniw he hd to goe to the magic farmer in the sky to seek his guidance.  Julius set out on his journey aroudn noon one day.  It started raining almosty immediately.\n",
      "\n",
      " Julius wondered if this was a sign that he shouldn't go on, but he perserved.  He became soaked, and stoped in the store to buy an umbrella.  He told the storekeeper, Reggie, about his journey.\n",
      "\n",
      " Reggie told him that he was crzy to seek out the magic farmer; the last 10 people to try to find him had never come back.  Julius was undetered and decided to keep going.\n",
      "\n",
      " He travelled many long days in alternatng searing heat and freezing cold.  At night, he curled into a ball and tried to sleep underneath trees along the roadside.\n",
      "\n",
      " After mich anguish, Julius found the magic farmer, who gave him the secret of growing potatoes.\n",
      "\n",
      " Julius came back to the village, and managed to grow the finest crop the village had ever seen.  Everyone had potatoes to eat for months, and sang Julius's praises.\n",
      "\n"
     ]
    }
   ],
   "source": [
    "# The story is stored in the file \"story.txt\".\n",
    "f = open(\"story.txt\", \"r\")\n",
    "story = f.read()\n",
    "print(story)"
   ]
  },
  {
   "cell_type": "markdown",
   "metadata": {},
   "source": [
    "## 3: Tokenizing the file\n",
    "### Instructions\n",
    "The story is loaded into the story variable.\n",
    "\n",
    "Tokenize the story, and store the tokens into the tokenized_story variable.\n",
    "### Answer"
   ]
  },
  {
   "cell_type": "code",
   "execution_count": 63,
   "metadata": {
    "collapsed": false
   },
   "outputs": [
    {
     "name": "stdout",
     "output_type": "stream",
     "text": [
      "['There', 'was', 'once', 'a', 'great', 'and', 'noble', 'frmer', 'named', 'Julius.', '', 'He', 'was', 'the', 'best', 'farmer', 'in', 'his', 'village,', 'and', 'prabably', 'even', 'the', 'whole', 'world.', '', 'One', 'day,', 'he', 'decidid', 'to', 'grw', 'potatoes.\\n\\n', 'Julius', 'knew', 'that', 'potatoes', 'were', 'hard', 'to', 'grow,', 'so', 'he', 'kniw', 'he', 'hd', 'to', 'goe', 'to', 'the', 'magic', 'farmer', 'in', 'the', 'sky', 'to', 'seek', 'his', 'guidance.', '', 'Julius', 'set', 'out', 'on', 'his', 'journey', 'aroudn', 'noon', 'one', 'day.', '', 'It', 'started', 'raining', 'almosty', 'immediately.\\n\\n', 'Julius', 'wondered', 'if', 'this', 'was', 'a', 'sign', 'that', 'he', \"shouldn't\", 'go', 'on,', 'but', 'he', 'perserved.', '', 'He', 'became', 'soaked,', 'and', 'stoped', 'in', 'the', 'store', 'to', 'buy', 'an', 'umbrella.', '', 'He', 'told', 'the', 'storekeeper,', 'Reggie,', 'about', 'his', 'journey.\\n\\n', 'Reggie', 'told', 'him', 'that', 'he', 'was', 'crzy', 'to', 'seek', 'out', 'the', 'magic', 'farmer;', 'the', 'last', '10', 'people', 'to', 'try', 'to', 'find', 'him', 'had', 'never', 'come', 'back.', '', 'Julius', 'was', 'undetered', 'and', 'decided', 'to', 'keep', 'going.\\n\\n', 'He', 'travelled', 'many', 'long', 'days', 'in', 'alternatng', 'searing', 'heat', 'and', 'freezing', 'cold.', '', 'At', 'night,', 'he', 'curled', 'into', 'a', 'ball', 'and', 'tried', 'to', 'sleep', 'underneath', 'trees', 'along', 'the', 'roadside.\\n\\n', 'After', 'mich', 'anguish,', 'Julius', 'found', 'the', 'magic', 'farmer,', 'who', 'gave', 'him', 'the', 'secret', 'of', 'growing', 'potatoes.\\n\\n', 'Julius', 'came', 'back', 'to', 'the', 'village,', 'and', 'managed', 'to', 'grow', 'the', 'finest', 'crop', 'the', 'village', 'had', 'ever', 'seen.', '', 'Everyone', 'had', 'potatoes', 'to', 'eat', 'for', 'months,', 'and', 'sang', \"Julius's\", 'praises.\\n']\n"
     ]
    }
   ],
   "source": [
    "# We can split strings into lists with the .split() method.\n",
    "# If we use a space as the input to .split(), it will split based on the space.\n",
    "text = \"Bears are probably better than sharks, but I can't get close enough to one to be sure.\"\n",
    "tokenized_text = text.split(\" \")\n",
    "tokenized_story = story.split(\" \")\n",
    "\n",
    "print(tokenized_story)"
   ]
  },
  {
   "cell_type": "markdown",
   "metadata": {},
   "source": [
    "## 4: Replacing punctuation\n",
    "### Instructions\n",
    "The story has been loaded into tokenized_story.\n",
    "\n",
    "Replace all of the punctuation in each of the tokens.\n",
    "\n",
    "You'll need to loop through tokenized_story to do so.\n",
    "\n",
    "You'll need to use multiple replace statements, one for each punctuation character to replace.\n",
    "\n",
    "Append the token to no_punctuation_tokens once you are done replacing characters.\n",
    "\n",
    "Don't forget to remove newlines!\n",
    "\n",
    "Print out no_punctuation_tokens if you want to see which types of punctuation are still in the data.\n",
    "### Answer"
   ]
  },
  {
   "cell_type": "code",
   "execution_count": 64,
   "metadata": {
    "collapsed": false
   },
   "outputs": [
    {
     "name": "stdout",
     "output_type": "stream",
     "text": [
      "['There', 'was', 'once', 'a', 'great', 'and', 'noble', 'frmer', 'named', 'Julius', '', 'He', 'was', 'the', 'best', 'farmer', 'in', 'his', 'village', 'and', 'prabably', 'even', 'the', 'whole', 'world', '', 'One', 'day', 'he', 'decidid', 'to', 'grw', 'potatoes', 'Julius', 'knew', 'that', 'potatoes', 'were', 'hard', 'to', 'grow', 'so', 'he', 'kniw', 'he', 'hd', 'to', 'goe', 'to', 'the', 'magic', 'farmer', 'in', 'the', 'sky', 'to', 'seek', 'his', 'guidance', '', 'Julius', 'set', 'out', 'on', 'his', 'journey', 'aroudn', 'noon', 'one', 'day', '', 'It', 'started', 'raining', 'almosty', 'immediately', 'Julius', 'wondered', 'if', 'this', 'was', 'a', 'sign', 'that', 'he', 'shouldnt', 'go', 'on', 'but', 'he', 'perserved', '', 'He', 'became', 'soaked', 'and', 'stoped', 'in', 'the', 'store', 'to', 'buy', 'an', 'umbrella', '', 'He', 'told', 'the', 'storekeeper', 'Reggie', 'about', 'his', 'journey', 'Reggie', 'told', 'him', 'that', 'he', 'was', 'crzy', 'to', 'seek', 'out', 'the', 'magic', 'farmer', 'the', 'last', '10', 'people', 'to', 'try', 'to', 'find', 'him', 'had', 'never', 'come', 'back', '', 'Julius', 'was', 'undetered', 'and', 'decided', 'to', 'keep', 'going', 'He', 'travelled', 'many', 'long', 'days', 'in', 'alternatng', 'searing', 'heat', 'and', 'freezing', 'cold', '', 'At', 'night', 'he', 'curled', 'into', 'a', 'ball', 'and', 'tried', 'to', 'sleep', 'underneath', 'trees', 'along', 'the', 'roadside', 'After', 'mich', 'anguish', 'Julius', 'found', 'the', 'magic', 'farmer', 'who', 'gave', 'him', 'the', 'secret', 'of', 'growing', 'potatoes', 'Julius', 'came', 'back', 'to', 'the', 'village', 'and', 'managed', 'to', 'grow', 'the', 'finest', 'crop', 'the', 'village', 'had', 'ever', 'seen', '', 'Everyone', 'had', 'potatoes', 'to', 'eat', 'for', 'months', 'and', 'sang', 'Juliuss', 'praises']\n"
     ]
    }
   ],
   "source": [
    "# We can use the .replace function to replace punctuation in a string.\n",
    "text = \"Who really shot John F. Kennedy?\"\n",
    "text = text.replace(\"?\", \"?!\")\n",
    "\n",
    "# The question mark has been replaced with ?!.\n",
    "##print(text)\n",
    "\n",
    "# We can replace strings with blank spaces, meaning that they are just removed.\n",
    "text = text.replace(\"?\", \"\")\n",
    "\n",
    "# The question mark is gone now.\n",
    "##print(text)\n",
    "\n",
    "no_punctuation_tokens = []\n",
    "\n",
    "for token in tokenized_story:\n",
    "    for p in [\".\", \",\", \"\\n\", \"'\", \";\", \"?\", \"!\", \"-\", \":\"]:\n",
    "        token = token.replace(p, \"\")\n",
    "    no_punctuation_tokens.append(token)\n",
    "print(no_punctuation_tokens)"
   ]
  },
  {
   "cell_type": "markdown",
   "metadata": {},
   "source": [
    "## 5: Lowercasing the words\n",
    "### Instructions\n",
    "The tokens without punctuation have been loaded into no_punctuation_tokens.\n",
    "\n",
    "Loop through the tokens and lowercase each one.\n",
    "\n",
    "Append each token to lowercase_tokens when you're done lowercasing.\n",
    "### Answer"
   ]
  },
  {
   "cell_type": "code",
   "execution_count": 65,
   "metadata": {
    "collapsed": false
   },
   "outputs": [
    {
     "name": "stdout",
     "output_type": "stream",
     "text": [
      "my caps lock is stuck\n",
      "['there', 'was', 'once', 'a', 'great', 'and', 'noble', 'frmer', 'named', 'julius', '', 'he', 'was', 'the', 'best', 'farmer', 'in', 'his', 'village', 'and', 'prabably', 'even', 'the', 'whole', 'world', '', 'one', 'day', 'he', 'decidid', 'to', 'grw', 'potatoes', 'julius', 'knew', 'that', 'potatoes', 'were', 'hard', 'to', 'grow', 'so', 'he', 'kniw', 'he', 'hd', 'to', 'goe', 'to', 'the', 'magic', 'farmer', 'in', 'the', 'sky', 'to', 'seek', 'his', 'guidance', '', 'julius', 'set', 'out', 'on', 'his', 'journey', 'aroudn', 'noon', 'one', 'day', '', 'it', 'started', 'raining', 'almosty', 'immediately', 'julius', 'wondered', 'if', 'this', 'was', 'a', 'sign', 'that', 'he', 'shouldnt', 'go', 'on', 'but', 'he', 'perserved', '', 'he', 'became', 'soaked', 'and', 'stoped', 'in', 'the', 'store', 'to', 'buy', 'an', 'umbrella', '', 'he', 'told', 'the', 'storekeeper', 'reggie', 'about', 'his', 'journey', 'reggie', 'told', 'him', 'that', 'he', 'was', 'crzy', 'to', 'seek', 'out', 'the', 'magic', 'farmer', 'the', 'last', '10', 'people', 'to', 'try', 'to', 'find', 'him', 'had', 'never', 'come', 'back', '', 'julius', 'was', 'undetered', 'and', 'decided', 'to', 'keep', 'going', 'he', 'travelled', 'many', 'long', 'days', 'in', 'alternatng', 'searing', 'heat', 'and', 'freezing', 'cold', '', 'at', 'night', 'he', 'curled', 'into', 'a', 'ball', 'and', 'tried', 'to', 'sleep', 'underneath', 'trees', 'along', 'the', 'roadside', 'after', 'mich', 'anguish', 'julius', 'found', 'the', 'magic', 'farmer', 'who', 'gave', 'him', 'the', 'secret', 'of', 'growing', 'potatoes', 'julius', 'came', 'back', 'to', 'the', 'village', 'and', 'managed', 'to', 'grow', 'the', 'finest', 'crop', 'the', 'village', 'had', 'ever', 'seen', '', 'everyone', 'had', 'potatoes', 'to', 'eat', 'for', 'months', 'and', 'sang', 'juliuss', 'praises']\n"
     ]
    }
   ],
   "source": [
    "# We can make strings all lowercase using the .lower() method.\n",
    "text = \"MY CAPS LOCK IS STUCK\"\n",
    "text = text.lower()\n",
    "\n",
    "# The text is much nicer to read now.\n",
    "print(text)\n",
    "\n",
    "lowercase_tokens = []\n",
    "\n",
    "for token in no_punctuation_tokens:\n",
    "    lowercase_tokens.append(token.lower())\n",
    "print(lowercase_tokens)"
   ]
  },
  {
   "cell_type": "markdown",
   "metadata": {},
   "source": [
    "## 7: Making a basic function\n",
    "### Instructions\n",
    "Define a function that takes degrees in fahrenheit as an input, and return degrees celsius\n",
    "\n",
    "Use it to convert 100 degrees fahrenheit to celsius. Assign the result to celsius_100.\n",
    "\n",
    "Use it to convert 150 degrees fahrenheit to celsius. Assign the result to celsius_150.\n",
    "### Answer"
   ]
  },
  {
   "cell_type": "code",
   "execution_count": 66,
   "metadata": {
    "collapsed": false
   },
   "outputs": [
    {
     "name": "stdout",
     "output_type": "stream",
     "text": [
      "1.6093470878864444\n",
      "37.77777777777778 65.55555555555556\n"
     ]
    }
   ],
   "source": [
    "# A simple function that takes in a number of miles, and turns it into kilometers\n",
    "# The input at position 0 will be put into the miles variable.\n",
    "def miles_to_km(miles):\n",
    "    # return is a special keyword that indicates that the function will output whatever comes after it.\n",
    "    return miles/0.62137\n",
    "\n",
    "# Returns the number of kilometers equivalent to one mile\n",
    "print(miles_to_km(1))\n",
    "\n",
    "# Convert a from 10 miles to kilometers\n",
    "a = 10\n",
    "a = miles_to_km(a)\n",
    "\n",
    "# We can convert and assign to a different variable\n",
    "b = 50\n",
    "c = miles_to_km(b)\n",
    "\n",
    "fahrenheit = 80\n",
    "celsius = (fahrenheit - 32)/1.8\n",
    "\n",
    "def f2c(f):\n",
    "    c = (f - 32)/1.8\n",
    "    return c\n",
    "\n",
    "celsius_100 = f2c(100)\n",
    "\n",
    "celsius_150 = f2c(150)\n",
    "\n",
    "print(celsius_100, celsius_150)"
   ]
  },
  {
   "cell_type": "markdown",
   "metadata": {},
   "source": [
    "## 8: Practice: functions\n",
    "### Instructions\n",
    "Make a function that takes a string as input and outputs a lowercase version.\n",
    "\n",
    "Then use it to turn the string lowercase_me to lowercase.\n",
    "\n",
    "Assign the result to lowercased_string.\n",
    "### Answer"
   ]
  },
  {
   "cell_type": "code",
   "execution_count": 67,
   "metadata": {
    "collapsed": false
   },
   "outputs": [
    {
     "name": "stdout",
     "output_type": "stream",
     "text": [
      "['Sally', 'sells', 'seashells', 'by', 'the', 'seashore.']\n",
      "i wish i was in all lowercase\n"
     ]
    }
   ],
   "source": [
    "def split_string(text):\n",
    "    return text.split(\" \")\n",
    "\n",
    "sally = \"Sally sells seashells by the seashore.\"\n",
    "# This splits the string into a list.\n",
    "print(split_string(sally))\n",
    "\n",
    "# We can assign the output of a function to a variable.\n",
    "sally_tokens = split_string(sally)\n",
    "\n",
    "lowercase_me = \"I wish I was in ALL lowercase\"\n",
    "\n",
    "def to_lowercase(text):\n",
    "    return text.lower()\n",
    "\n",
    "lowercased_string = to_lowercase(lowercase_me)\n",
    "print(lowercased_string)"
   ]
  },
  {
   "cell_type": "markdown",
   "metadata": {},
   "source": [
    "## 9: Types of errors\n",
    "### Instructions\n",
    "There are multiple **syntax errors** in the code cell below. You can tell because of the error showing up in the results panel. Fix the errors and get the code running properly. It should print all of the items in a.\n",
    "### Answer"
   ]
  },
  {
   "cell_type": "code",
   "execution_count": 68,
   "metadata": {
    "collapsed": false
   },
   "outputs": [
    {
     "name": "stdout",
     "output_type": "stream",
     "text": [
      "Errors are no fun!\n",
      "But they can be fixed\n",
      "Just fix the syntax and everything will be fine\n"
     ]
    }
   ],
   "source": [
    "# Sometimes, you will have problems with your code that cause python to throw an exception.\n",
    "# Don't worry, it happens to all of us many times a day.\n",
    "# An exception means that the program can't run, so you'll get an error in the results view instead of the normal output.\n",
    "# There are a few different types of exceptions.\n",
    "# The first we'll look at is a SyntaxError.\n",
    "# This means that something is typed incorrectly (statements misspelled, quotes missing, and so on)\n",
    "\n",
    "a = [\"Errors are no fun!\", \"But they can be fixed\", \"Just fix the syntax and everything will be fine\"]\n",
    "b = 5\n",
    "\n",
    "for item in a:\n",
    "    if b == 5:\n",
    "        print(item)"
   ]
  },
  {
   "cell_type": "markdown",
   "metadata": {},
   "source": [
    "## 10: More syntax errors\n",
    "### Instructions\n",
    "The code below has multiple syntax errors. Fix them so the code prints out \"I never liked that 6\"\n",
    "### Answer"
   ]
  },
  {
   "cell_type": "code",
   "execution_count": 69,
   "metadata": {
    "collapsed": false
   },
   "outputs": [
    {
     "name": "stdout",
     "output_type": "stream",
     "text": [
      "I never liked that 6\n"
     ]
    }
   ],
   "source": [
    "a = 5\n",
    "\n",
    "if a == 6:\n",
    "    print(\"6 is obviously the best number\")\n",
    "    print(\"What's going on, guys?\")\n",
    "else:\n",
    "    print(\"I never liked that 6\")"
   ]
  },
  {
   "cell_type": "markdown",
   "metadata": {},
   "source": [
    "## 11: Index errors\n",
    "### Instructions\n",
    "The code below has multiple index errors. Fix them so that the code prints the last item in each list.\n",
    "### Answer"
   ]
  },
  {
   "cell_type": "code",
   "execution_count": 70,
   "metadata": {
    "collapsed": false
   },
   "outputs": [
    {
     "name": "stdout",
     "output_type": "stream",
     "text": [
      "Mark Hamill\n",
      "Jabba\n"
     ]
    }
   ],
   "source": [
    "# An index error is when a nonexistent index in a list is accessed.\n",
    "the_list = [\"Harrison Ford\", \"Mark Hamill\"]\n",
    "\n",
    "print(the_list[-1])\n",
    "\n",
    "another_list = [\"Jabba\"]\n",
    "\n",
    "print(another_list[-1])"
   ]
  },
  {
   "cell_type": "markdown",
   "metadata": {},
   "source": [
    "## 13: Multiline functions\n",
    "### Instructions\n",
    "All the tokens from Julius's story are in the tokenized_story variable.\n",
    "\n",
    "Write a function that removes all punctuation from an input string.\n",
    "\n",
    "Then loop over tokenized_story and call the function to remove the punctuation from each token.\n",
    "\n",
    "Append the tokens to no_punctuation_tokens.\n",
    "### Answer"
   ]
  },
  {
   "cell_type": "code",
   "execution_count": 71,
   "metadata": {
    "collapsed": false
   },
   "outputs": [
    {
     "name": "stdout",
     "output_type": "stream",
     "text": [
      "220\n",
      "['There', 'was', 'once', 'a', 'great', 'and', 'noble', 'frmer', 'named', 'Julius', '', 'He', 'was', 'the', 'best', 'farmer', 'in', 'his', 'village', 'and', 'prabably', 'even', 'the', 'whole', 'world', '', 'One', 'day', 'he', 'decidid', 'to', 'grw', 'potatoes', 'Julius', 'knew', 'that', 'potatoes', 'were', 'hard', 'to', 'grow', 'so', 'he', 'kniw', 'he', 'hd', 'to', 'goe', 'to', 'the', 'magic', 'farmer', 'in', 'the', 'sky', 'to', 'seek', 'his', 'guidance', '', 'Julius', 'set', 'out', 'on', 'his', 'journey', 'aroudn', 'noon', 'one', 'day', '', 'It', 'started', 'raining', 'almosty', 'immediately', 'Julius', 'wondered', 'if', 'this', 'was', 'a', 'sign', 'that', 'he', 'shouldnt', 'go', 'on', 'but', 'he', 'perserved', '', 'He', 'became', 'soaked', 'and', 'stoped', 'in', 'the', 'store', 'to', 'buy', 'an', 'umbrella', '', 'He', 'told', 'the', 'storekeeper', 'Reggie', 'about', 'his', 'journey', 'Reggie', 'told', 'him', 'that', 'he', 'was', 'crzy', 'to', 'seek', 'out', 'the', 'magic', 'farmer', 'the', 'last', '10', 'people', 'to', 'try', 'to', 'find', 'him', 'had', 'never', 'come', 'back', '', 'Julius', 'was', 'undetered', 'and', 'decided', 'to', 'keep', 'going', 'He', 'travelled', 'many', 'long', 'days', 'in', 'alternatng', 'searing', 'heat', 'and', 'freezing', 'cold', '', 'At', 'night', 'he', 'curled', 'into', 'a', 'ball', 'and', 'tried', 'to', 'sleep', 'underneath', 'trees', 'along', 'the', 'roadside', 'After', 'mich', 'anguish', 'Julius', 'found', 'the', 'magic', 'farmer', 'who', 'gave', 'him', 'the', 'secret', 'of', 'growing', 'potatoes', 'Julius', 'came', 'back', 'to', 'the', 'village', 'and', 'managed', 'to', 'grow', 'the', 'finest', 'crop', 'the', 'village', 'had', 'ever', 'seen', '', 'Everyone', 'had', 'potatoes', 'to', 'eat', 'for', 'months', 'and', 'sang', 'Juliuss', 'praises']\n"
     ]
    }
   ],
   "source": [
    "# Functions can have multiple lines in the function body.\n",
    "def do_math(number):\n",
    "    # Multiply the number by 10\n",
    "    number = number * 10\n",
    "    # Add 20 to the number\n",
    "    number = number + 20\n",
    "    return number\n",
    "\n",
    "print(do_math(20))\n",
    "a = do_math(10)\n",
    "\n",
    "no_punctuation_tokens = []\n",
    "\n",
    "def remove_punctuation(text):\n",
    "    return text.replace(\"\\n\", \"\").replace(\".\", \"\").replace(\",\", \"\") \\\n",
    "                .replace(\":\", \"\").replace(\";\", \"\") \\\n",
    "                .replace(\"!\", \"\").replace(\"?\", \"\").replace(\"'\", \"\")\n",
    "\n",
    "for token in tokenized_story:\n",
    "    no_punctuation_tokens.append(remove_punctuation(token))\n",
    "print(no_punctuation_tokens)"
   ]
  },
  {
   "cell_type": "markdown",
   "metadata": {},
   "source": [
    "## 14: Making a function to lowercase input\n",
    "### Instructions\n",
    "We've written the remove_punctuation function for you. Can you add to it so that it also makes the output lowercase?\n",
    "\n",
    "Then loop over the tokens in tokenized_story and normalize them with the function.\n",
    "\n",
    "Append the tokens to normalized_tokens when you're done.\n",
    "### Answer"
   ]
  },
  {
   "cell_type": "code",
   "execution_count": 72,
   "metadata": {
    "collapsed": false
   },
   "outputs": [
    {
     "name": "stdout",
     "output_type": "stream",
     "text": [
      "['there', 'was', 'once', 'a', 'great', 'and', 'noble', 'frmer', 'named', 'julius', '', 'he', 'was', 'the', 'best', 'farmer', 'in', 'his', 'village', 'and', 'prabably', 'even', 'the', 'whole', 'world', '', 'one', 'day', 'he', 'decidid', 'to', 'grw', 'potatoes', 'julius', 'knew', 'that', 'potatoes', 'were', 'hard', 'to', 'grow', 'so', 'he', 'kniw', 'he', 'hd', 'to', 'goe', 'to', 'the', 'magic', 'farmer', 'in', 'the', 'sky', 'to', 'seek', 'his', 'guidance', '', 'julius', 'set', 'out', 'on', 'his', 'journey', 'aroudn', 'noon', 'one', 'day', '', 'it', 'started', 'raining', 'almosty', 'immediately', 'julius', 'wondered', 'if', 'this', 'was', 'a', 'sign', 'that', 'he', 'shouldnt', 'go', 'on', 'but', 'he', 'perserved', '', 'he', 'became', 'soaked', 'and', 'stoped', 'in', 'the', 'store', 'to', 'buy', 'an', 'umbrella', '', 'he', 'told', 'the', 'storekeeper', 'reggie', 'about', 'his', 'journey', 'reggie', 'told', 'him', 'that', 'he', 'was', 'crzy', 'to', 'seek', 'out', 'the', 'magic', 'farmer', 'the', 'last', '10', 'people', 'to', 'try', 'to', 'find', 'him', 'had', 'never', 'come', 'back', '', 'julius', 'was', 'undetered', 'and', 'decided', 'to', 'keep', 'going', 'he', 'travelled', 'many', 'long', 'days', 'in', 'alternatng', 'searing', 'heat', 'and', 'freezing', 'cold', '', 'at', 'night', 'he', 'curled', 'into', 'a', 'ball', 'and', 'tried', 'to', 'sleep', 'underneath', 'trees', 'along', 'the', 'roadside', 'after', 'mich', 'anguish', 'julius', 'found', 'the', 'magic', 'farmer', 'who', 'gave', 'him', 'the', 'secret', 'of', 'growing', 'potatoes', 'julius', 'came', 'back', 'to', 'the', 'village', 'and', 'managed', 'to', 'grow', 'the', 'finest', 'crop', 'the', 'village', 'had', 'ever', 'seen', '', 'everyone', 'had', 'potatoes', 'to', 'eat', 'for', 'months', 'and', 'sang', 'juliuss', 'praises']\n"
     ]
    }
   ],
   "source": [
    "# This is our function to remove punctuation.\n",
    "def remove_punctuation(token):\n",
    "    token = token.replace(\".\",\"\")\n",
    "    token = token.replace(\",\",\"\")\n",
    "    token = token.replace(\"'\", \"\")\n",
    "    token = token.replace(\";\", \"\")\n",
    "    token = token.replace(\"\\n\", \"\")\n",
    "    return token.lower()\n",
    "\n",
    "# We've read the tokens from Julius's story into the tokenized_story variable.\n",
    "# Can you add to the remove_punctuation function so it also lowercases the tokens?\n",
    "# Then loop over the tokens in tokenized_story, normalize them with the function, and append them to normalized_tokens.\n",
    "normalized_tokens = []\n",
    "\n",
    "for token in tokenized_story:\n",
    "    normalized_tokens.append(remove_punctuation(token))\n",
    "    \n",
    "print(normalized_tokens)"
   ]
  },
  {
   "cell_type": "markdown",
   "metadata": {},
   "source": [
    "## 16: Practice with multiple argument functions\n",
    "### Instructions\n",
    "Create a multiply function that takes in x, y, and z argument.\n",
    "\n",
    "The function should return x * y * z\n",
    "\n",
    "Assign the values of multiply(10,3,5) to a\n",
    "\n",
    "Assign the values of multiply(20,-1,3) to b\n",
    "### Answer"
   ]
  },
  {
   "cell_type": "code",
   "execution_count": 73,
   "metadata": {
    "collapsed": false
   },
   "outputs": [
    {
     "name": "stdout",
     "output_type": "stream",
     "text": [
      "5.0\n",
      "0.2\n"
     ]
    }
   ],
   "source": [
    "# This function takes two arguments, at positions 0 and 1\n",
    "def divide(x,y):\n",
    "    return x/y\n",
    "\n",
    "# 5 is assigned to x, and 1 is assigned to y based on positions\n",
    "print(divide(5,1))\n",
    "\n",
    "# 1 is assigned to x, and 5 is assigned to y based on positions.\n",
    "print(divide(1,5))"
   ]
  },
  {
   "cell_type": "code",
   "execution_count": 74,
   "metadata": {
    "collapsed": true
   },
   "outputs": [],
   "source": [
    "def multiply(x,y,z):\n",
    "    return x*y*z\n",
    "\n",
    "a,b = multiply(10,3,5), multiply(20,-1,3)"
   ]
  },
  {
   "cell_type": "code",
   "execution_count": 75,
   "metadata": {
    "collapsed": false
   },
   "outputs": [
    {
     "name": "stdout",
     "output_type": "stream",
     "text": [
      "150 -60\n"
     ]
    }
   ],
   "source": [
    "print(a,b)"
   ]
  },
  {
   "cell_type": "markdown",
   "metadata": {},
   "source": [
    "## 17: Reading in and normalizing the dictionary\n",
    "The dictionary is stored in dictionary.txt\n",
    "\n",
    "We'll need to read it in and normalize it.\n",
    "### Instructions\n",
    "Read in the dictionary from the \"dictionary.txt\" file.\n",
    "\n",
    "Split it into tokens based on the space character.\n",
    "\n",
    "Normalize each token using the normalize function.\n",
    "\n",
    "Append the normalized tokens to normalized_dictionary_tokens"
   ]
  },
  {
   "cell_type": "code",
   "execution_count": 76,
   "metadata": {
    "collapsed": true
   },
   "outputs": [],
   "source": [
    "def normalize(token):\n",
    "    token = token.replace(\".\",\"\")\n",
    "    token = token.replace(\",\",\"\")\n",
    "    token = token.replace(\"'\", \"\")\n",
    "    token = token.replace(\";\", \"\")\n",
    "    token = token.replace(\"\\n\", \"\")\n",
    "    token = token.lower()\n",
    "    return token\n",
    "\n",
    "normalized_dictionary_tokens = []"
   ]
  },
  {
   "cell_type": "markdown",
   "metadata": {},
   "source": [
    "### Answer"
   ]
  },
  {
   "cell_type": "code",
   "execution_count": 77,
   "metadata": {
    "collapsed": false
   },
   "outputs": [
    {
     "name": "stdout",
     "output_type": "stream",
     "text": [
      "a about after almost along alternating an and anguish around at back ball became best but buy came cold come crop crazy curled day days decided decided eat even ever everyone farmer farmer find finest for found freezing farmer gave go going great grow growing guidance had hard he heat him his if immediately in into it journey julius juliuss keep knew last long magic managed many much months named never night noble noon of on once one out people persevered potatoes probably praises raining reggie roadside sang searing secret seek seen set shouldnt sign sky sleep so soaked started stopped store storekeeper that the there this to told travelled trees tried try umbrella underneath undeterred village was were who whole wondered world\n",
      "\n",
      "['a', 'about', 'after', 'almost', 'along', 'alternating', 'an', 'and', 'anguish', 'around', 'at', 'back', 'ball', 'became', 'best', 'but', 'buy', 'came', 'cold', 'come', 'crop', 'crazy', 'curled', 'day', 'days', 'decided', 'decided', 'eat', 'even', 'ever', 'everyone', 'farmer', 'farmer', 'find', 'finest', 'for', 'found', 'freezing', 'farmer', 'gave', 'go', 'going', 'great', 'grow', 'growing', 'guidance', 'had', 'hard', 'he', 'heat', 'him', 'his', 'if', 'immediately', 'in', 'into', 'it', 'journey', 'julius', 'juliuss', 'keep', 'knew', 'last', 'long', 'magic', 'managed', 'many', 'much', 'months', 'named', 'never', 'night', 'noble', 'noon', 'of', 'on', 'once', 'one', 'out', 'people', 'persevered', 'potatoes', 'probably', 'praises', 'raining', 'reggie', 'roadside', 'sang', 'searing', 'secret', 'seek', 'seen', 'set', 'shouldnt', 'sign', 'sky', 'sleep', 'so', 'soaked', 'started', 'stopped', 'store', 'storekeeper', 'that', 'the', 'there', 'this', 'to', 'told', 'travelled', 'trees', 'tried', 'try', 'umbrella', 'underneath', 'undeterred', 'village', 'was', 'were', 'who', 'whole', 'wondered', 'world']\n"
     ]
    }
   ],
   "source": [
    "f = open(\"dictionary.txt\", \"r\")\n",
    "text = f.read()\n",
    "print(text)\n",
    "\n",
    "tokens = text.split(\" \")\n",
    "for token in tokens:\n",
    "    normalized_dictionary_tokens.append(normalize(token))\n",
    "    \n",
    "print(normalized_dictionary_tokens)"
   ]
  },
  {
   "cell_type": "markdown",
   "metadata": {},
   "source": [
    "## 18: Finding words that aren't spelled correctly\n",
    "A solution is in sight! All we need to do is loop through the normalized story tokens, and check if they are in the dictionary. If they aren't, they are potential misspellings.\n",
    "\n",
    "### Instructions\n",
    "The normalized story tokens are in normalized_story_tokens, and the normalized dictionary tokens are in normalized_dictionary_tokens.\n",
    "\n",
    "Loop through the story tokens, and check if each token is in the dictionary.\n",
    "\n",
    "If the token is in normalized_dictionary_tokens, append it to correctly_spelled\n",
    "\n",
    "If it isn't, append it to potential_misspellings.\n"
   ]
  },
  {
   "cell_type": "code",
   "execution_count": 78,
   "metadata": {
    "collapsed": true
   },
   "outputs": [],
   "source": [
    "potential_misspellings = []\n",
    "correctly_spelled = []"
   ]
  },
  {
   "cell_type": "markdown",
   "metadata": {},
   "source": [
    "### Answer"
   ]
  },
  {
   "cell_type": "code",
   "execution_count": 79,
   "metadata": {
    "collapsed": true
   },
   "outputs": [],
   "source": [
    "normalized_story_tokens = normalized_tokens"
   ]
  },
  {
   "cell_type": "code",
   "execution_count": 80,
   "metadata": {
    "collapsed": false
   },
   "outputs": [
    {
     "name": "stdout",
     "output_type": "stream",
     "text": [
      "['frmer', '', 'prabably', '', 'decidid', 'grw', 'kniw', 'hd', 'goe', '', 'aroudn', '', 'almosty', 'perserved', '', 'stoped', '', 'crzy', '10', '', 'undetered', 'alternatng', '', 'mich', '']\n",
      "['there', 'was', 'once', 'a', 'great', 'and', 'noble', 'named', 'julius', 'he', 'was', 'the', 'best', 'farmer', 'in', 'his', 'village', 'and', 'even', 'the', 'whole', 'world', 'one', 'day', 'he', 'to', 'potatoes', 'julius', 'knew', 'that', 'potatoes', 'were', 'hard', 'to', 'grow', 'so', 'he', 'he', 'to', 'to', 'the', 'magic', 'farmer', 'in', 'the', 'sky', 'to', 'seek', 'his', 'guidance', 'julius', 'set', 'out', 'on', 'his', 'journey', 'noon', 'one', 'day', 'it', 'started', 'raining', 'immediately', 'julius', 'wondered', 'if', 'this', 'was', 'a', 'sign', 'that', 'he', 'shouldnt', 'go', 'on', 'but', 'he', 'he', 'became', 'soaked', 'and', 'in', 'the', 'store', 'to', 'buy', 'an', 'umbrella', 'he', 'told', 'the', 'storekeeper', 'reggie', 'about', 'his', 'journey', 'reggie', 'told', 'him', 'that', 'he', 'was', 'to', 'seek', 'out', 'the', 'magic', 'farmer', 'the', 'last', 'people', 'to', 'try', 'to', 'find', 'him', 'had', 'never', 'come', 'back', 'julius', 'was', 'and', 'decided', 'to', 'keep', 'going', 'he', 'travelled', 'many', 'long', 'days', 'in', 'searing', 'heat', 'and', 'freezing', 'cold', 'at', 'night', 'he', 'curled', 'into', 'a', 'ball', 'and', 'tried', 'to', 'sleep', 'underneath', 'trees', 'along', 'the', 'roadside', 'after', 'anguish', 'julius', 'found', 'the', 'magic', 'farmer', 'who', 'gave', 'him', 'the', 'secret', 'of', 'growing', 'potatoes', 'julius', 'came', 'back', 'to', 'the', 'village', 'and', 'managed', 'to', 'grow', 'the', 'finest', 'crop', 'the', 'village', 'had', 'ever', 'seen', 'everyone', 'had', 'potatoes', 'to', 'eat', 'for', 'months', 'and', 'sang', 'juliuss', 'praises']\n"
     ]
    }
   ],
   "source": [
    "for token in normalized_story_tokens:\n",
    "    if token in normalized_dictionary_tokens:\n",
    "        correctly_spelled.append(token)\n",
    "    else:\n",
    "        potential_misspellings.append(token)\n",
    "print(potential_misspellings)\n",
    "print(correctly_spelled)"
   ]
  },
  {
   "cell_type": "code",
   "execution_count": null,
   "metadata": {
    "collapsed": true
   },
   "outputs": [],
   "source": []
  }
 ],
 "metadata": {
  "kernelspec": {
   "display_name": "Python 3",
   "language": "python",
   "name": "python3"
  },
  "language_info": {
   "codemirror_mode": {
    "name": "ipython",
    "version": 3
   },
   "file_extension": ".py",
   "mimetype": "text/x-python",
   "name": "python",
   "nbconvert_exporter": "python",
   "pygments_lexer": "ipython3",
   "version": "3.5.1"
  }
 },
 "nbformat": 4,
 "nbformat_minor": 0
}
