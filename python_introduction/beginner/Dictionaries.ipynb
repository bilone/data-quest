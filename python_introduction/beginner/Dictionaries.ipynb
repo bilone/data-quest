{
 "cells": [
  {
   "cell_type": "markdown",
   "metadata": {},
   "source": [
    "## 2: Parsing the file\n",
    "### Instructions\n",
    "Open \"la_weather.csv\", parse it, and assign the result to weather_data.\n",
    "### Answer"
   ]
  },
  {
   "cell_type": "code",
   "execution_count": 11,
   "metadata": {
    "collapsed": false
   },
   "outputs": [
    {
     "name": "stdout",
     "output_type": "stream",
     "text": [
      "[['Day', 'Type of Weather'], ['1', 'Sunny'], ['2', 'Sunny'], ['3', 'Sunny'], ['4', 'Sunny'], ['5', 'Sunny'], ['6', 'Rain'], ['7', 'Sunny'], ['8', 'Sunny'], ['9', 'Fog']]\n"
     ]
    }
   ],
   "source": [
    "# Let's parse the data from the last mission as an example.\n",
    "# First, we open the wait times file from the last mission.\n",
    "f = open(\"crime_rates.csv\", 'r')\n",
    "data = f.read()\n",
    "rows = data.split('\\n')\n",
    "full_data = []\n",
    "for row in rows:\n",
    "    split_row = row.split(\",\")\n",
    "    full_data.append(split_row)\n",
    "\n",
    "weather_data = []\n",
    "f = open(\"la_weather.csv\", 'r')\n",
    "data = f.read()\n",
    "\n",
    "rows = data.split('\\n')\n",
    "full_data = []\n",
    "for row in rows:\n",
    "    split_row = row.split(\",\")\n",
    "    weather_data.append(split_row)\n",
    "    \n",
    "print(weather_data[:10])"
   ]
  }
 ],
 "metadata": {
  "kernelspec": {
   "display_name": "Python 3",
   "language": "python",
   "name": "python3"
  },
  "language_info": {
   "codemirror_mode": {
    "name": "ipython",
    "version": 3
   },
   "file_extension": ".py",
   "mimetype": "text/x-python",
   "name": "python",
   "nbconvert_exporter": "python",
   "pygments_lexer": "ipython3",
   "version": "3.5.1"
  }
 },
 "nbformat": 4,
 "nbformat_minor": 0
}
