{
 "cells": [
  {
   "cell_type": "markdown",
   "metadata": {},
   "source": [
    "## 3: Class syntax\n",
    "### Instructions\n",
    "Create a class called Team.\n",
    "\n",
    "Inside the class, create a name property. Assign the value \"Tampa Bay Buccaneers\" to this property.\n",
    "\n",
    "Create an instance of the Team class, and assign it to the variable bucs.\n",
    "\n",
    "Print the name property of the bucs instance."
   ]
  },
  {
   "cell_type": "code",
   "execution_count": 1,
   "metadata": {
    "collapsed": false
   },
   "outputs": [
    {
     "name": "stdout",
     "output_type": "stream",
     "text": [
      "black\n"
     ]
    }
   ],
   "source": [
    "class Car():\n",
    "    def __init__(self):\n",
    "        self.color = \"black\"\n",
    "        self.make = \"honda\"\n",
    "        self.model = \"accord\"\n",
    "\n",
    "black_honda_accord = Car()\n",
    "\n",
    "print(black_honda_accord.color)"
   ]
  },
  {
   "cell_type": "markdown",
   "metadata": {},
   "source": [
    "### Answer\n"
   ]
  },
  {
   "cell_type": "code",
   "execution_count": 2,
   "metadata": {
    "collapsed": false
   },
   "outputs": [
    {
     "name": "stdout",
     "output_type": "stream",
     "text": [
      "Tampa Bay Buccaneers\n"
     ]
    }
   ],
   "source": [
    "class Team():\n",
    "    def __init__(self):\n",
    "        self.name = \"Tampa Bay Buccaneers\"\n",
    "        \n",
    "bucs = Team()\n",
    "\n",
    "print(bucs.name)"
   ]
  },
  {
   "cell_type": "markdown",
   "metadata": {},
   "source": [
    "## 4: Instance methods and __init__\n",
    "### Instrutions\n",
    "Add a name parameter to the __init__ method, and set the self.name property to the name argument.\n",
    "\n",
    "Make an instance of the class, passing in the value \"New York Giants\" to the __init__ function (when you write Team()).\n",
    "\n",
    "Assign the result to the variable giants.\n",
    "### Answer"
   ]
  },
  {
   "cell_type": "code",
   "execution_count": 4,
   "metadata": {
    "collapsed": false
   },
   "outputs": [
    {
     "name": "stdout",
     "output_type": "stream",
     "text": [
      "New York Giants\n"
     ]
    }
   ],
   "source": [
    "class Team():\n",
    "    def __init__(self, name):\n",
    "        self.name = name\n",
    "        \n",
    "giants = Team(\"New York Giants\")\n",
    "\n",
    "print(giants.name)"
   ]
  },
  {
   "cell_type": "markdown",
   "metadata": {},
   "source": [
    "## 6: More instance methods\n",
    "### Instructions\n",
    "Add an instance method called count_total_wins to the Team class. The method should take no arguments (except self), and should return the number of games the team won from 2009-2013.\n",
    "\n",
    "Use the instance method to assign the number of wins by the \"Denver Broncos\" to broncos_wins.\n",
    "\n",
    "Use the instance method to assign the number of wins by the \"Kansas City Chiefs\" to chiefs_wins."
   ]
  },
  {
   "cell_type": "code",
   "execution_count": 5,
   "metadata": {
    "collapsed": false
   },
   "outputs": [
    {
     "name": "stdout",
     "output_type": "stream",
     "text": [
      "Tampa Bay Buccaneers\n"
     ]
    }
   ],
   "source": [
    "import csv\n",
    "\n",
    "f = open(\"nfl.csv\", 'r')\n",
    "nfl = list(csv.reader(f))\n",
    "\n",
    "# The nfl data is loaded into the nfl variable.\n",
    "class Team():\n",
    "    def __init__(self, name):\n",
    "        self.name = name\n",
    "\n",
    "    def print_name(self):\n",
    "        print(self.name)\n",
    "        \n",
    "    # Your method goes here\n",
    "    \n",
    "    \n",
    "bucs = Team(\"Tampa Bay Buccaneers\")\n",
    "bucs.print_name()"
   ]
  },
  {
   "cell_type": "markdown",
   "metadata": {},
   "source": [
    "### Answer"
   ]
  },
  {
   "cell_type": "code",
   "execution_count": 6,
   "metadata": {
    "collapsed": false
   },
   "outputs": [
    {
     "name": "stdout",
     "output_type": "stream",
     "text": [
      "Tampa Bay Buccaneers\n",
      "8 3\n"
     ]
    }
   ],
   "source": [
    "import csv\n",
    "\n",
    "f = open(\"nfl.csv\", 'r')\n",
    "nfl = list(csv.reader(f))\n",
    "\n",
    "# The nfl data is loaded into the nfl variable.\n",
    "class Team():\n",
    "    def __init__(self, name):\n",
    "        self.name = name\n",
    "\n",
    "    def print_name(self):\n",
    "        print(self.name)\n",
    "        \n",
    "    # Your method goes here\n",
    "    def count_total_wins(self):\n",
    "        wins = 0\n",
    "        for row in nfl:\n",
    "            if row[2] == self.name:\n",
    "                wins += 1\n",
    "        return wins\n",
    "    \n",
    "    \n",
    "bucs = Team(\"Tampa Bay Buccaneers\")\n",
    "bucs.print_name()\n",
    "\n",
    "broncos_wins = Team(\"Denver Broncos\").count_total_wins()\n",
    "chiefs_wins = Team(\"Kansas City Chiefs\").count_total_wins()\n",
    "\n",
    "print(broncos_wins, chiefs_wins)"
   ]
  },
  {
   "cell_type": "markdown",
   "metadata": {},
   "source": [
    "## 7: Adding to the init function\n",
    "### Instructions\n",
    "Add code in the __init__ method to read and store the nfl data in the self.nfl property. The data is stored in \"nfl.csv\".\n",
    "\n",
    "Then alter the code in the count_total_wins method to use the self.nfl property instead of the nfl variable (which no longer exists).\n",
    "\n",
    "Use the instance method to assign the number of wins by the \"Jacksonville Jaguars\" to jaguars_wins."
   ]
  },
  {
   "cell_type": "code",
   "execution_count": 10,
   "metadata": {
    "collapsed": true
   },
   "outputs": [],
   "source": [
    "import csv\n",
    "class Team():\n",
    "    def __init__(self, name):\n",
    "        self.name = name\n",
    "        f = open(\"nfl.csv\", 'r')\n",
    "        self.nfl = list(csv.reader(f))\n",
    "        \n",
    "    def count_total_wins(self):\n",
    "        count = 0\n",
    "        for row in self.nfl:\n",
    "            if row[2] == self.name:\n",
    "                count = count + 1\n",
    "        return count\n",
    "jaguars_wins = Team(\"Jacksonville Jaguars\").count_total_wins()"
   ]
  },
  {
   "cell_type": "code",
   "execution_count": 11,
   "metadata": {
    "collapsed": false
   },
   "outputs": [
    {
     "name": "stdout",
     "output_type": "stream",
     "text": [
      "7\n"
     ]
    }
   ],
   "source": [
    "print(jaguars_wins)"
   ]
  },
  {
   "cell_type": "markdown",
   "metadata": {},
   "source": [
    "## 8: Wins in a year\n",
    "### Instructions\n",
    "Add a method to the Team class that computes how many wins the team had in a given year.\n",
    "\n",
    "The count_wins_in_year method should take a year string as an argument (e.g. \"2011\"), and return the number of wins the team had in that year.\n",
    "\n",
    "Use the instance method to assign the number of wins in \"2013\" by the \"San Francisco 49ers\" to niners_wins_2013."
   ]
  },
  {
   "cell_type": "code",
   "execution_count": 12,
   "metadata": {
    "collapsed": false
   },
   "outputs": [
    {
     "name": "stdout",
     "output_type": "stream",
     "text": [
      "0\n"
     ]
    }
   ],
   "source": [
    "import csv\n",
    "class Team():\n",
    "    def __init__(self, name):\n",
    "        self.name = name\n",
    "        f = open(\"nfl.csv\", 'r')\n",
    "        csvreader = csv.reader(f)\n",
    "        self.nfl = list(csvreader)\n",
    "\n",
    "    def count_total_wins(self):\n",
    "        count = 0\n",
    "        for row in self.nfl:\n",
    "            if row[2] == self.name:\n",
    "                count = count + 1\n",
    "        return count\n",
    "    \n",
    "    def count_wins_in_a_year(self, year):\n",
    "        count = 0\n",
    "        for row in self.nfl:\n",
    "            if row[0] == year and row[2] == self.name:\n",
    "                count = count + 1\n",
    "        return count      \n",
    "    \n",
    "niners_wins_2013 = Team(\"San Francisco 49ers\").count_wins_in_a_year(\"2013\")\n",
    "print(niners_wins_2013)"
   ]
  },
  {
   "cell_type": "code",
   "execution_count": null,
   "metadata": {
    "collapsed": true
   },
   "outputs": [],
   "source": []
  }
 ],
 "metadata": {
  "kernelspec": {
   "display_name": "Python 3",
   "language": "python",
   "name": "python3"
  },
  "language_info": {
   "codemirror_mode": {
    "name": "ipython",
    "version": 3
   },
   "file_extension": ".py",
   "mimetype": "text/x-python",
   "name": "python",
   "nbconvert_exporter": "python",
   "pygments_lexer": "ipython3",
   "version": "3.5.1"
  }
 },
 "nbformat": 4,
 "nbformat_minor": 0
}
