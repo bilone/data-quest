{
 "cells": [
  {
   "cell_type": "markdown",
   "metadata": {},
   "source": [
    "## 2: Writing a while loop\n",
    "### Instructions\n",
    "Create a while loop that tests if b is greater than 5. If it is, the loop body should print b out, then subtract one from it."
   ]
  },
  {
   "cell_type": "code",
   "execution_count": 1,
   "metadata": {
    "collapsed": false
   },
   "outputs": [
    {
     "name": "stdout",
     "output_type": "stream",
     "text": [
      "3\n",
      "4\n",
      "5\n"
     ]
    }
   ],
   "source": [
    "x = 3\n",
    "# The loop body will execute three times.  Once when x == 3, once when x == 4, and once when x == 5.\n",
    "# Then x < 6 will evaluate to False, and it will stop.\n",
    "# 3, 4, and 5 will be printed out.\n",
    "while x < 6:\n",
    "    print(x)\n",
    "    # Using += is a shorter way of saying x = x + 1.  It will add one to x.\n",
    "    x += 1\n",
    "\n",
    "b = 10"
   ]
  },
  {
   "cell_type": "markdown",
   "metadata": {},
   "source": [
    "### Answer"
   ]
  },
  {
   "cell_type": "code",
   "execution_count": 2,
   "metadata": {
    "collapsed": false
   },
   "outputs": [
    {
     "name": "stdout",
     "output_type": "stream",
     "text": [
      "10\n",
      "9\n",
      "8\n",
      "7\n",
      "6\n"
     ]
    }
   ],
   "source": [
    "while b > 5:\n",
    "    print(b)\n",
    "    b -= 1"
   ]
  },
  {
   "cell_type": "markdown",
   "metadata": {},
   "source": [
    "## 3: Using the break keyword\n",
    "### Instructions\n",
    "Let's say we want two \"Bengal\" tigers from available_tigers for our nature reserve.\n",
    "\n",
    "Write a for loop that increments tiger_count when it finds one, and breaks after finding two."
   ]
  },
  {
   "cell_type": "code",
   "execution_count": 3,
   "metadata": {
    "collapsed": true
   },
   "outputs": [],
   "source": [
    "available_count = 0\n",
    "desired_dog = \"Great Dane\"\n",
    "available_dogs = [\"Labrador\", \"Poodle\", \"Sheepdog\", \"Great Dane\", \"Pomeranian\", \"Great Dane\", \"Collie\"]\n",
    "\n",
    "# Let's say we are searching for two dogs of the same breed to adopt.\n",
    "# We'll loop through the dogs.\n",
    "for dog in available_dogs:\n",
    "    # If our desired dog is found.\n",
    "    if dog == desired_dog:\n",
    "        # Increment the counter.\n",
    "        available_count += 1\n",
    "        # We only want two dogs, so we can stop searching after we find them.\n",
    "        if available_count == 2:\n",
    "            break\n",
    "\n",
    "tiger_count = 0\n",
    "desired_tiger = \"Bengal\"\n",
    "available_tigers = [\"Bengal\", \"Dressed up poodle\", \"Siberian\", \"Sumatran\", \"Bengal\", \"Housecat\", \"Hobbes\"]"
   ]
  },
  {
   "cell_type": "markdown",
   "metadata": {},
   "source": [
    "### Answer"
   ]
  },
  {
   "cell_type": "code",
   "execution_count": 8,
   "metadata": {
    "collapsed": true
   },
   "outputs": [],
   "source": [
    "for t in available_tigers:\n",
    "    if t == \"Bengal\":\n",
    "        tiger_count += 1\n",
    "    if tiger_count == 2:\n",
    "        break"
   ]
  },
  {
   "cell_type": "markdown",
   "metadata": {},
   "source": [
    "## 4: Finding a column number from a name\n",
    "### Instructions\n",
    "Write a function that will get the column number from the column name.\n",
    "\n",
    "Use it to get the column number for the \"arr_delay\" column and assign it to the arr_delay variable.\n",
    "\n",
    "Use it to get the column number for the \"weather_delay\" column and assign it to the weather_delay variable."
   ]
  },
  {
   "cell_type": "code",
   "execution_count": 9,
   "metadata": {
    "collapsed": true
   },
   "outputs": [],
   "source": [
    "column_names = ['year',\n",
    " 'month',\n",
    " 'carrier',\n",
    " 'carrier_name',\n",
    " 'airport',\n",
    " 'airport_name',\n",
    " 'arr_flights',\n",
    " 'arr_del15',\n",
    " 'carrier_ct',\n",
    " 'weather_ct',\n",
    " 'nas_ct',\n",
    " 'security_ct',\n",
    " 'late_aircraft_ct',\n",
    " 'arr_cancelled',\n",
    " 'arr_diverted',\n",
    " 'arr_delay',\n",
    " 'carrier_delay',\n",
    " 'weather_delay',\n",
    " 'nas_delay',\n",
    " 'security_delay',\n",
    " 'late_aircraft_delay']"
   ]
  },
  {
   "cell_type": "code",
   "execution_count": 10,
   "metadata": {
    "collapsed": false
   },
   "outputs": [
    {
     "name": "stdout",
     "output_type": "stream",
     "text": [
      "carrier\n"
     ]
    }
   ],
   "source": [
    "# It's pretty easy to get a column name from a column number.\n",
    "# The third column contains the carrier (same as the airline).\n",
    "print(column_names[2])"
   ]
  },
  {
   "cell_type": "markdown",
   "metadata": {},
   "source": [
    "### Answer"
   ]
  },
  {
   "cell_type": "code",
   "execution_count": 11,
   "metadata": {
    "collapsed": false
   },
   "outputs": [
    {
     "name": "stdout",
     "output_type": "stream",
     "text": [
      "15 17\n"
     ]
    }
   ],
   "source": [
    "def number_by_name(name):\n",
    "    found = None\n",
    "    for i, nm in enumerate(column_names):\n",
    "        if nm == name:\n",
    "            found = i\n",
    "            break\n",
    "    return found\n",
    "            \n",
    "\n",
    "arr_delay = number_by_name(\"arr_delay\")\n",
    "weather_delay = number_by_name(\"weather_delay\")\n",
    "print(arr_delay, weather_delay)"
   ]
  },
  {
   "cell_type": "code",
   "execution_count": null,
   "metadata": {
    "collapsed": true
   },
   "outputs": [],
   "source": []
  }
 ],
 "metadata": {
  "kernelspec": {
   "display_name": "Python 3",
   "language": "python",
   "name": "python3"
  },
  "language_info": {
   "codemirror_mode": {
    "name": "ipython",
    "version": 3
   },
   "file_extension": ".py",
   "mimetype": "text/x-python",
   "name": "python",
   "nbconvert_exporter": "python",
   "pygments_lexer": "ipython3",
   "version": "3.5.1"
  }
 },
 "nbformat": 4,
 "nbformat_minor": 0
}
