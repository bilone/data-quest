{
 "cells": [
  {
   "cell_type": "markdown",
   "metadata": {},
   "source": [
    "## 2: Writing a while loop\n",
    "### Instructions\n",
    "Create a while loop that tests if b is greater than 5. If it is, the loop body should print b out, then subtract one from it."
   ]
  },
  {
   "cell_type": "code",
   "execution_count": 1,
   "metadata": {
    "collapsed": false
   },
   "outputs": [
    {
     "name": "stdout",
     "output_type": "stream",
     "text": [
      "3\n",
      "4\n",
      "5\n"
     ]
    }
   ],
   "source": [
    "x = 3\n",
    "# The loop body will execute three times.  Once when x == 3, once when x == 4, and once when x == 5.\n",
    "# Then x < 6 will evaluate to False, and it will stop.\n",
    "# 3, 4, and 5 will be printed out.\n",
    "while x < 6:\n",
    "    print(x)\n",
    "    # Using += is a shorter way of saying x = x + 1.  It will add one to x.\n",
    "    x += 1\n",
    "\n",
    "b = 10"
   ]
  },
  {
   "cell_type": "markdown",
   "metadata": {},
   "source": [
    "### Answer"
   ]
  },
  {
   "cell_type": "code",
   "execution_count": null,
   "metadata": {
    "collapsed": true
   },
   "outputs": [],
   "source": [
    "while b > 5"
   ]
  }
 ],
 "metadata": {
  "kernelspec": {
   "display_name": "Python 3",
   "language": "python",
   "name": "python3"
  },
  "language_info": {
   "codemirror_mode": {
    "name": "ipython",
    "version": 3
   },
   "file_extension": ".py",
   "mimetype": "text/x-python",
   "name": "python",
   "nbconvert_exporter": "python",
   "pygments_lexer": "ipython3",
   "version": "3.5.1"
  }
 },
 "nbformat": 4,
 "nbformat_minor": 0
}
