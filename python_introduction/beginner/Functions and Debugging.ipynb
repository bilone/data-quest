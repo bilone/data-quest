{
 "cells": [
  {
   "cell_type": "markdown",
   "metadata": {},
   "source": [
    "## 2: Reading the file in\n",
    "### Instructions\n",
    "The story is stored in the \"story.txt\" file. Open the file and read the contents into the story variable.\n",
    "### Answer"
   ]
  },
  {
   "cell_type": "code",
   "execution_count": 2,
   "metadata": {
    "collapsed": false
   },
   "outputs": [
    {
     "name": "stdout",
     "output_type": "stream",
     "text": [
      "There was once a great and noble frmer named Julius.  He was the best farmer in his village, and prabably even the whole world.  One day, he decidid to grw potatoes.\n",
      "\n",
      " Julius knew that potatoes were hard to grow, so he kniw he hd to goe to the magic farmer in the sky to seek his guidance.  Julius set out on his journey aroudn noon one day.  It started raining almosty immediately.\n",
      "\n",
      " Julius wondered if this was a sign that he shouldn't go on, but he perserved.  He became soaked, and stoped in the store to buy an umbrella.  He told the storekeeper, Reggie, about his journey.\n",
      "\n",
      " Reggie told him that he was crzy to seek out the magic farmer; the last 10 people to try to find him had never come back.  Julius was undetered and decided to keep going.\n",
      "\n",
      " He travelled many long days in alternatng searing heat and freezing cold.  At night, he curled into a ball and tried to sleep underneath trees along the roadside.\n",
      "\n",
      " After mich anguish, Julius found the magic farmer, who gave him the secret of growing potatoes.\n",
      "\n",
      " Julius came back to the village, and managed to grow the finest crop the village had ever seen.  Everyone had potatoes to eat for months, and sang Julius's praises.\n",
      "\n"
     ]
    }
   ],
   "source": [
    "# The story is stored in the file \"story.txt\".\n",
    "f = open(\"story.txt\", \"r\")\n",
    "story = f.read()\n",
    "print(story)"
   ]
  },
  {
   "cell_type": "markdown",
   "metadata": {},
   "source": [
    "## 3: Tokenizing the file\n",
    "### Instructions\n",
    "The story is loaded into the story variable.\n",
    "\n",
    "Tokenize the story, and store the tokens into the tokenized_story variable.\n",
    "### Answer"
   ]
  },
  {
   "cell_type": "code",
   "execution_count": null,
   "metadata": {
    "collapsed": true
   },
   "outputs": [],
   "source": [
    "# We can split strings into lists with the .split() method.\n",
    "# If we use a space as the input to .split(), it will split based on the space.\n",
    "text = \"Bears are probably better than sharks, but I can't get close enough to one to be sure.\"\n",
    "tokenized_text = text.split(\" \")\n",
    "tokenized_story = s"
   ]
  }
 ],
 "metadata": {
  "kernelspec": {
   "display_name": "Python 3",
   "language": "python",
   "name": "python3"
  },
  "language_info": {
   "codemirror_mode": {
    "name": "ipython",
    "version": 3
   },
   "file_extension": ".py",
   "mimetype": "text/x-python",
   "name": "python",
   "nbconvert_exporter": "python",
   "pygments_lexer": "ipython3",
   "version": "3.5.1"
  }
 },
 "nbformat": 4,
 "nbformat_minor": 0
}
