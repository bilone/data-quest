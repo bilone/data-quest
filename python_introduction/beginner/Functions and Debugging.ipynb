{
 "cells": [
  {
   "cell_type": "markdown",
   "metadata": {},
   "source": [
    "## 2: Reading the file in\n",
    "### Instructions\n",
    "The story is stored in the \"story.txt\" file. Open the file and read the contents into the story variable.\n",
    "### Answer"
   ]
  },
  {
   "cell_type": "code",
   "execution_count": 2,
   "metadata": {
    "collapsed": false
   },
   "outputs": [
    {
     "name": "stdout",
     "output_type": "stream",
     "text": [
      "There was once a great and noble frmer named Julius.  He was the best farmer in his village, and prabably even the whole world.  One day, he decidid to grw potatoes.\n",
      "\n",
      " Julius knew that potatoes were hard to grow, so he kniw he hd to goe to the magic farmer in the sky to seek his guidance.  Julius set out on his journey aroudn noon one day.  It started raining almosty immediately.\n",
      "\n",
      " Julius wondered if this was a sign that he shouldn't go on, but he perserved.  He became soaked, and stoped in the store to buy an umbrella.  He told the storekeeper, Reggie, about his journey.\n",
      "\n",
      " Reggie told him that he was crzy to seek out the magic farmer; the last 10 people to try to find him had never come back.  Julius was undetered and decided to keep going.\n",
      "\n",
      " He travelled many long days in alternatng searing heat and freezing cold.  At night, he curled into a ball and tried to sleep underneath trees along the roadside.\n",
      "\n",
      " After mich anguish, Julius found the magic farmer, who gave him the secret of growing potatoes.\n",
      "\n",
      " Julius came back to the village, and managed to grow the finest crop the village had ever seen.  Everyone had potatoes to eat for months, and sang Julius's praises.\n",
      "\n"
     ]
    }
   ],
   "source": [
    "# The story is stored in the file \"story.txt\".\n",
    "f = open(\"story.txt\", \"r\")\n",
    "story = f.read()\n",
    "print(story)"
   ]
  },
  {
   "cell_type": "markdown",
   "metadata": {},
   "source": [
    "## 3: Tokenizing the file\n",
    "### Instructions\n",
    "The story is loaded into the story variable.\n",
    "\n",
    "Tokenize the story, and store the tokens into the tokenized_story variable.\n",
    "### Answer"
   ]
  },
  {
   "cell_type": "code",
   "execution_count": 3,
   "metadata": {
    "collapsed": false
   },
   "outputs": [
    {
     "name": "stdout",
     "output_type": "stream",
     "text": [
      "['There', 'was', 'once', 'a', 'great', 'and', 'noble', 'frmer', 'named', 'Julius.', '', 'He', 'was', 'the', 'best', 'farmer', 'in', 'his', 'village,', 'and', 'prabably', 'even', 'the', 'whole', 'world.', '', 'One', 'day,', 'he', 'decidid', 'to', 'grw', 'potatoes.\\n\\n', 'Julius', 'knew', 'that', 'potatoes', 'were', 'hard', 'to', 'grow,', 'so', 'he', 'kniw', 'he', 'hd', 'to', 'goe', 'to', 'the', 'magic', 'farmer', 'in', 'the', 'sky', 'to', 'seek', 'his', 'guidance.', '', 'Julius', 'set', 'out', 'on', 'his', 'journey', 'aroudn', 'noon', 'one', 'day.', '', 'It', 'started', 'raining', 'almosty', 'immediately.\\n\\n', 'Julius', 'wondered', 'if', 'this', 'was', 'a', 'sign', 'that', 'he', \"shouldn't\", 'go', 'on,', 'but', 'he', 'perserved.', '', 'He', 'became', 'soaked,', 'and', 'stoped', 'in', 'the', 'store', 'to', 'buy', 'an', 'umbrella.', '', 'He', 'told', 'the', 'storekeeper,', 'Reggie,', 'about', 'his', 'journey.\\n\\n', 'Reggie', 'told', 'him', 'that', 'he', 'was', 'crzy', 'to', 'seek', 'out', 'the', 'magic', 'farmer;', 'the', 'last', '10', 'people', 'to', 'try', 'to', 'find', 'him', 'had', 'never', 'come', 'back.', '', 'Julius', 'was', 'undetered', 'and', 'decided', 'to', 'keep', 'going.\\n\\n', 'He', 'travelled', 'many', 'long', 'days', 'in', 'alternatng', 'searing', 'heat', 'and', 'freezing', 'cold.', '', 'At', 'night,', 'he', 'curled', 'into', 'a', 'ball', 'and', 'tried', 'to', 'sleep', 'underneath', 'trees', 'along', 'the', 'roadside.\\n\\n', 'After', 'mich', 'anguish,', 'Julius', 'found', 'the', 'magic', 'farmer,', 'who', 'gave', 'him', 'the', 'secret', 'of', 'growing', 'potatoes.\\n\\n', 'Julius', 'came', 'back', 'to', 'the', 'village,', 'and', 'managed', 'to', 'grow', 'the', 'finest', 'crop', 'the', 'village', 'had', 'ever', 'seen.', '', 'Everyone', 'had', 'potatoes', 'to', 'eat', 'for', 'months,', 'and', 'sang', \"Julius's\", 'praises.\\n']\n"
     ]
    }
   ],
   "source": [
    "# We can split strings into lists with the .split() method.\n",
    "# If we use a space as the input to .split(), it will split based on the space.\n",
    "text = \"Bears are probably better than sharks, but I can't get close enough to one to be sure.\"\n",
    "tokenized_text = text.split(\" \")\n",
    "tokenized_story = story.split(\" \")\n",
    "\n",
    "print(tokenized_story)"
   ]
  },
  {
   "cell_type": "markdown",
   "metadata": {},
   "source": [
    "## 4: Replacing punctuation\n",
    "### Instructions\n",
    "The story has been loaded into tokenized_story.\n",
    "\n",
    "Replace all of the punctuation in each of the tokens.\n",
    "\n",
    "You'll need to loop through tokenized_story to do so.\n",
    "\n",
    "You'll need to use multiple replace statements, one for each punctuation character to replace.\n",
    "\n",
    "Append the token to no_punctuation_tokens once you are done replacing characters.\n",
    "\n",
    "Don't forget to remove newlines!\n",
    "\n",
    "Print out no_punctuation_tokens if you want to see which types of punctuation are still in the data.\n",
    "### Answer"
   ]
  },
  {
   "cell_type": "code",
   "execution_count": 14,
   "metadata": {
    "collapsed": false
   },
   "outputs": [
    {
     "name": "stdout",
     "output_type": "stream",
     "text": [
      "['There', 'was', 'once', 'a', 'great', 'and', 'noble', 'frmer', 'named', 'Julius', '', 'He', 'was', 'the', 'best', 'farmer', 'in', 'his', 'village', 'and', 'prabably', 'even', 'the', 'whole', 'world', '', 'One', 'day', 'he', 'decidid', 'to', 'grw', 'potatoes', 'Julius', 'knew', 'that', 'potatoes', 'were', 'hard', 'to', 'grow', 'so', 'he', 'kniw', 'he', 'hd', 'to', 'goe', 'to', 'the', 'magic', 'farmer', 'in', 'the', 'sky', 'to', 'seek', 'his', 'guidance', '', 'Julius', 'set', 'out', 'on', 'his', 'journey', 'aroudn', 'noon', 'one', 'day', '', 'It', 'started', 'raining', 'almosty', 'immediately', 'Julius', 'wondered', 'if', 'this', 'was', 'a', 'sign', 'that', 'he', 'shouldnt', 'go', 'on', 'but', 'he', 'perserved', '', 'He', 'became', 'soaked', 'and', 'stoped', 'in', 'the', 'store', 'to', 'buy', 'an', 'umbrella', '', 'He', 'told', 'the', 'storekeeper', 'Reggie', 'about', 'his', 'journey', 'Reggie', 'told', 'him', 'that', 'he', 'was', 'crzy', 'to', 'seek', 'out', 'the', 'magic', 'farmer', 'the', 'last', '10', 'people', 'to', 'try', 'to', 'find', 'him', 'had', 'never', 'come', 'back', '', 'Julius', 'was', 'undetered', 'and', 'decided', 'to', 'keep', 'going', 'He', 'travelled', 'many', 'long', 'days', 'in', 'alternatng', 'searing', 'heat', 'and', 'freezing', 'cold', '', 'At', 'night', 'he', 'curled', 'into', 'a', 'ball', 'and', 'tried', 'to', 'sleep', 'underneath', 'trees', 'along', 'the', 'roadside', 'After', 'mich', 'anguish', 'Julius', 'found', 'the', 'magic', 'farmer', 'who', 'gave', 'him', 'the', 'secret', 'of', 'growing', 'potatoes', 'Julius', 'came', 'back', 'to', 'the', 'village', 'and', 'managed', 'to', 'grow', 'the', 'finest', 'crop', 'the', 'village', 'had', 'ever', 'seen', '', 'Everyone', 'had', 'potatoes', 'to', 'eat', 'for', 'months', 'and', 'sang', 'Juliuss', 'praises']\n"
     ]
    }
   ],
   "source": [
    "# We can use the .replace function to replace punctuation in a string.\n",
    "text = \"Who really shot John F. Kennedy?\"\n",
    "text = text.replace(\"?\", \"?!\")\n",
    "\n",
    "# The question mark has been replaced with ?!.\n",
    "##print(text)\n",
    "\n",
    "# We can replace strings with blank spaces, meaning that they are just removed.\n",
    "text = text.replace(\"?\", \"\")\n",
    "\n",
    "# The question mark is gone now.\n",
    "##print(text)\n",
    "\n",
    "no_punctuation_tokens = []\n",
    "\n",
    "for token in tokenized_story:\n",
    "    for p in [\".\", \",\", \"\\n\", \"'\", \";\", \"?\", \"!\", \"-\", \":\"]:\n",
    "        token = token.replace(p, \"\")\n",
    "    no_punctuation_tokens.append(token)\n",
    "print(no_punctuation_tokens)"
   ]
  },
  {
   "cell_type": "markdown",
   "metadata": {},
   "source": [
    "## 5: Lowercasing the words\n",
    "### Instructions\n",
    "The tokens without punctuation have been loaded into no_punctuation_tokens.\n",
    "\n",
    "Loop through the tokens and lowercase each one.\n",
    "\n",
    "Append each token to lowercase_tokens when you're done lowercasing.\n",
    "### Answer"
   ]
  },
  {
   "cell_type": "code",
   "execution_count": 16,
   "metadata": {
    "collapsed": false
   },
   "outputs": [
    {
     "name": "stdout",
     "output_type": "stream",
     "text": [
      "my caps lock is stuck\n",
      "['there', 'was', 'once', 'a', 'great', 'and', 'noble', 'frmer', 'named', 'julius', '', 'he', 'was', 'the', 'best', 'farmer', 'in', 'his', 'village', 'and', 'prabably', 'even', 'the', 'whole', 'world', '', 'one', 'day', 'he', 'decidid', 'to', 'grw', 'potatoes', 'julius', 'knew', 'that', 'potatoes', 'were', 'hard', 'to', 'grow', 'so', 'he', 'kniw', 'he', 'hd', 'to', 'goe', 'to', 'the', 'magic', 'farmer', 'in', 'the', 'sky', 'to', 'seek', 'his', 'guidance', '', 'julius', 'set', 'out', 'on', 'his', 'journey', 'aroudn', 'noon', 'one', 'day', '', 'it', 'started', 'raining', 'almosty', 'immediately', 'julius', 'wondered', 'if', 'this', 'was', 'a', 'sign', 'that', 'he', 'shouldnt', 'go', 'on', 'but', 'he', 'perserved', '', 'he', 'became', 'soaked', 'and', 'stoped', 'in', 'the', 'store', 'to', 'buy', 'an', 'umbrella', '', 'he', 'told', 'the', 'storekeeper', 'reggie', 'about', 'his', 'journey', 'reggie', 'told', 'him', 'that', 'he', 'was', 'crzy', 'to', 'seek', 'out', 'the', 'magic', 'farmer', 'the', 'last', '10', 'people', 'to', 'try', 'to', 'find', 'him', 'had', 'never', 'come', 'back', '', 'julius', 'was', 'undetered', 'and', 'decided', 'to', 'keep', 'going', 'he', 'travelled', 'many', 'long', 'days', 'in', 'alternatng', 'searing', 'heat', 'and', 'freezing', 'cold', '', 'at', 'night', 'he', 'curled', 'into', 'a', 'ball', 'and', 'tried', 'to', 'sleep', 'underneath', 'trees', 'along', 'the', 'roadside', 'after', 'mich', 'anguish', 'julius', 'found', 'the', 'magic', 'farmer', 'who', 'gave', 'him', 'the', 'secret', 'of', 'growing', 'potatoes', 'julius', 'came', 'back', 'to', 'the', 'village', 'and', 'managed', 'to', 'grow', 'the', 'finest', 'crop', 'the', 'village', 'had', 'ever', 'seen', '', 'everyone', 'had', 'potatoes', 'to', 'eat', 'for', 'months', 'and', 'sang', 'juliuss', 'praises']\n"
     ]
    }
   ],
   "source": [
    "# We can make strings all lowercase using the .lower() method.\n",
    "text = \"MY CAPS LOCK IS STUCK\"\n",
    "text = text.lower()\n",
    "\n",
    "# The text is much nicer to read now.\n",
    "print(text)\n",
    "\n",
    "lowercase_tokens = []\n",
    "\n",
    "for token in no_punctuation_tokens:\n",
    "    lowercase_tokens.append(token.lower())\n",
    "print(lowercase_tokens)"
   ]
  },
  {
   "cell_type": "markdown",
   "metadata": {},
   "source": [
    "## 7: Making a basic function\n",
    "### Instructions\n",
    "Define a function that takes degrees in fahrenheit as an input, and return degrees celsius\n",
    "\n",
    "Use it to convert 100 degrees fahrenheit to celsius. Assign the result to celsius_100.\n",
    "\n",
    "Use it to convert 150 degrees fahrenheit to celsius. Assign the result to celsius_150.\n",
    "### Answer"
   ]
  },
  {
   "cell_type": "code",
   "execution_count": 17,
   "metadata": {
    "collapsed": false
   },
   "outputs": [
    {
     "name": "stdout",
     "output_type": "stream",
     "text": [
      "1.6093470878864444\n",
      "37.77777777777778 65.55555555555556\n"
     ]
    }
   ],
   "source": [
    "# A simple function that takes in a number of miles, and turns it into kilometers\n",
    "# The input at position 0 will be put into the miles variable.\n",
    "def miles_to_km(miles):\n",
    "    # return is a special keyword that indicates that the function will output whatever comes after it.\n",
    "    return miles/0.62137\n",
    "\n",
    "# Returns the number of kilometers equivalent to one mile\n",
    "print(miles_to_km(1))\n",
    "\n",
    "# Convert a from 10 miles to kilometers\n",
    "a = 10\n",
    "a = miles_to_km(a)\n",
    "\n",
    "# We can convert and assign to a different variable\n",
    "b = 50\n",
    "c = miles_to_km(b)\n",
    "\n",
    "fahrenheit = 80\n",
    "celsius = (fahrenheit - 32)/1.8\n",
    "\n",
    "def f2c(f):\n",
    "    c = (f - 32)/1.8\n",
    "    return c\n",
    "\n",
    "celsius_100 = f2c(100)\n",
    "\n",
    "celsius_150 = f2c(150)\n",
    "\n",
    "print(celsius_100, celsius_150)"
   ]
  },
  {
   "cell_type": "markdown",
   "metadata": {},
   "source": [
    "## 8: Practice: functions\n",
    "### Instructions\n",
    "Make a function that takes a string as input and outputs a lowercase version.\n",
    "\n",
    "Then use it to turn the string lowercase_me to lowercase.\n",
    "\n",
    "Assign the result to lowercased_string.\n",
    "### Answer"
   ]
  },
  {
   "cell_type": "code",
   "execution_count": 19,
   "metadata": {
    "collapsed": false
   },
   "outputs": [
    {
     "name": "stdout",
     "output_type": "stream",
     "text": [
      "['Sally', 'sells', 'seashells', 'by', 'the', 'seashore.']\n",
      "i wish i was in all lowercase\n"
     ]
    }
   ],
   "source": [
    "def split_string(text):\n",
    "    return text.split(\" \")\n",
    "\n",
    "sally = \"Sally sells seashells by the seashore.\"\n",
    "# This splits the string into a list.\n",
    "print(split_string(sally))\n",
    "\n",
    "# We can assign the output of a function to a variable.\n",
    "sally_tokens = split_string(sally)\n",
    "\n",
    "lowercase_me = \"I wish I was in ALL lowercase\"\n",
    "\n",
    "def to_lowercase(text):\n",
    "    return text.lower()\n",
    "\n",
    "lowercased_string = to_lowercase(lowercase_me)\n",
    "print(lowercased_string)"
   ]
  },
  {
   "cell_type": "code",
   "execution_count": null,
   "metadata": {
    "collapsed": true
   },
   "outputs": [],
   "source": []
  }
 ],
 "metadata": {
  "kernelspec": {
   "display_name": "Python 3",
   "language": "python",
   "name": "python3"
  },
  "language_info": {
   "codemirror_mode": {
    "name": "ipython",
    "version": 3
   },
   "file_extension": ".py",
   "mimetype": "text/x-python",
   "name": "python",
   "nbconvert_exporter": "python",
   "pygments_lexer": "ipython3",
   "version": "3.5.1"
  }
 },
 "nbformat": 4,
 "nbformat_minor": 0
}
