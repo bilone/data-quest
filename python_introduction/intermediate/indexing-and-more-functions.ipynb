{
 "cells": [
  {
   "cell_type": "markdown",
   "metadata": {},
   "source": [
    "## 2: Writing a while loop\n",
    "### Instructions\n",
    "Create a while loop that tests if b is greater than 5. If it is, the loop body should print b out, then subtract one from it."
   ]
  },
  {
   "cell_type": "code",
   "execution_count": 1,
   "metadata": {
    "collapsed": false
   },
   "outputs": [
    {
     "name": "stdout",
     "output_type": "stream",
     "text": [
      "3\n",
      "4\n",
      "5\n"
     ]
    }
   ],
   "source": [
    "x = 3\n",
    "# The loop body will execute three times.  Once when x == 3, once when x == 4, and once when x == 5.\n",
    "# Then x < 6 will evaluate to False, and it will stop.\n",
    "# 3, 4, and 5 will be printed out.\n",
    "while x < 6:\n",
    "    print(x)\n",
    "    # Using += is a shorter way of saying x = x + 1.  It will add one to x.\n",
    "    x += 1\n",
    "\n",
    "b = 10"
   ]
  },
  {
   "cell_type": "markdown",
   "metadata": {},
   "source": [
    "### Answer"
   ]
  },
  {
   "cell_type": "code",
   "execution_count": 2,
   "metadata": {
    "collapsed": false
   },
   "outputs": [
    {
     "name": "stdout",
     "output_type": "stream",
     "text": [
      "10\n",
      "9\n",
      "8\n",
      "7\n",
      "6\n"
     ]
    }
   ],
   "source": [
    "while b > 5:\n",
    "    print(b)\n",
    "    b -= 1"
   ]
  },
  {
   "cell_type": "markdown",
   "metadata": {},
   "source": [
    "## 3: Using the break keyword\n",
    "### Instructions\n",
    "Let's say we want two \"Bengal\" tigers from available_tigers for our nature reserve.\n",
    "\n",
    "Write a for loop that increments tiger_count when it finds one, and breaks after finding two."
   ]
  },
  {
   "cell_type": "code",
   "execution_count": 3,
   "metadata": {
    "collapsed": true
   },
   "outputs": [],
   "source": [
    "available_count = 0\n",
    "desired_dog = \"Great Dane\"\n",
    "available_dogs = [\"Labrador\", \"Poodle\", \"Sheepdog\", \"Great Dane\", \"Pomeranian\", \"Great Dane\", \"Collie\"]\n",
    "\n",
    "# Let's say we are searching for two dogs of the same breed to adopt.\n",
    "# We'll loop through the dogs.\n",
    "for dog in available_dogs:\n",
    "    # If our desired dog is found.\n",
    "    if dog == desired_dog:\n",
    "        # Increment the counter.\n",
    "        available_count += 1\n",
    "        # We only want two dogs, so we can stop searching after we find them.\n",
    "        if available_count == 2:\n",
    "            break\n",
    "\n",
    "tiger_count = 0\n",
    "desired_tiger = \"Bengal\"\n",
    "available_tigers = [\"Bengal\", \"Dressed up poodle\", \"Siberian\", \"Sumatran\", \"Bengal\", \"Housecat\", \"Hobbes\"]"
   ]
  },
  {
   "cell_type": "markdown",
   "metadata": {},
   "source": [
    "### Answer"
   ]
  },
  {
   "cell_type": "code",
   "execution_count": 8,
   "metadata": {
    "collapsed": true
   },
   "outputs": [],
   "source": [
    "for t in available_tigers:\n",
    "    if t == \"Bengal\":\n",
    "        tiger_count += 1\n",
    "    if tiger_count == 2:\n",
    "        break"
   ]
  },
  {
   "cell_type": "markdown",
   "metadata": {},
   "source": [
    "## 4: Finding a column number from a name\n",
    "### Instructions\n",
    "Write a function that will get the column number from the column name.\n",
    "\n",
    "Use it to get the column number for the \"arr_delay\" column and assign it to the arr_delay variable.\n",
    "\n",
    "Use it to get the column number for the \"weather_delay\" column and assign it to the weather_delay variable."
   ]
  },
  {
   "cell_type": "code",
   "execution_count": 9,
   "metadata": {
    "collapsed": true
   },
   "outputs": [],
   "source": [
    "column_names = ['year',\n",
    " 'month',\n",
    " 'carrier',\n",
    " 'carrier_name',\n",
    " 'airport',\n",
    " 'airport_name',\n",
    " 'arr_flights',\n",
    " 'arr_del15',\n",
    " 'carrier_ct',\n",
    " 'weather_ct',\n",
    " 'nas_ct',\n",
    " 'security_ct',\n",
    " 'late_aircraft_ct',\n",
    " 'arr_cancelled',\n",
    " 'arr_diverted',\n",
    " 'arr_delay',\n",
    " 'carrier_delay',\n",
    " 'weather_delay',\n",
    " 'nas_delay',\n",
    " 'security_delay',\n",
    " 'late_aircraft_delay']"
   ]
  },
  {
   "cell_type": "code",
   "execution_count": 10,
   "metadata": {
    "collapsed": false
   },
   "outputs": [
    {
     "name": "stdout",
     "output_type": "stream",
     "text": [
      "carrier\n"
     ]
    }
   ],
   "source": [
    "# It's pretty easy to get a column name from a column number.\n",
    "# The third column contains the carrier (same as the airline).\n",
    "print(column_names[2])"
   ]
  },
  {
   "cell_type": "markdown",
   "metadata": {},
   "source": [
    "### Answer"
   ]
  },
  {
   "cell_type": "code",
   "execution_count": 11,
   "metadata": {
    "collapsed": false
   },
   "outputs": [
    {
     "name": "stdout",
     "output_type": "stream",
     "text": [
      "15 17\n"
     ]
    }
   ],
   "source": [
    "def number_by_name(name):\n",
    "    found = None\n",
    "    for i, nm in enumerate(column_names):\n",
    "        if nm == name:\n",
    "            found = i\n",
    "            break\n",
    "    return found\n",
    "            \n",
    "\n",
    "arr_delay = number_by_name(\"arr_delay\")\n",
    "weather_delay = number_by_name(\"weather_delay\")\n",
    "print(arr_delay, weather_delay)"
   ]
  },
  {
   "cell_type": "markdown",
   "metadata": {},
   "source": [
    "## 5: Using negative indexing\n",
    "### Instructions\n",
    "Use negative indexing to assign the third to last row in flight_delays to third_to_last.\n",
    "\n",
    "Use negative slicing to assign the fourth, third, and second to last rows in flight_delays to end_slice"
   ]
  },
  {
   "cell_type": "code",
   "execution_count": 13,
   "metadata": {
    "collapsed": false
   },
   "outputs": [
    {
     "name": "stdout",
     "output_type": "stream",
     "text": [
      "['2014', '10', 'AA', 'American Airlines Inc.', 'CMH', 'Columbus OH: Port Columbus International', '169', '50', '17.61', '1.01', '11.5', '0', '19.87', '1', '0', '3203', '889', '106', '360', '0', '1848']\n",
      "['2014', '10', 'AA', 'American Airlines Inc.', 'BWI', 'Baltimore MD: Baltimore/Washington International Thurgood Marshall', '208', '51', '15.06', '1.24', '22.92', '0.75', '11.04', '2', '0', '2388', '872', '49', '734', '18', '715']\n",
      "[['2014', '10', 'AA', 'American Airlines Inc.', 'TPA', 'Tampa FL: Tampa International', '397', '89', '44.79', '1.28', '15.62', '0', '27.31', '2', '0', '4886', '1847', '318', '743', '0', '1978'], ['2014', '10', 'AA', 'American Airlines Inc.', 'BWI', 'Baltimore MD: Baltimore/Washington International Thurgood Marshall', '208', '51', '15.06', '1.24', '22.92', '0.75', '11.04', '2', '0', '2388', '872', '49', '734', '18', '715']]\n"
     ]
    }
   ],
   "source": [
    "from flight_delays import flight_delays\n",
    "# Prints the last row in flight_delays\n",
    "print(flight_delays[-1])\n",
    "\n",
    "# Prints the second to last row in flight_delays\n",
    "print(flight_delays[-2])\n",
    "\n",
    "# Prints the third to last and second to last rows in flight_delays (remember that slicing only goes up to but not including the second number)\n",
    "# This will get the rows at index -3 and -2\n",
    "print(flight_delays[-3:-1])"
   ]
  },
  {
   "cell_type": "markdown",
   "metadata": {},
   "source": [
    "### Answer"
   ]
  },
  {
   "cell_type": "code",
   "execution_count": 14,
   "metadata": {
    "collapsed": false
   },
   "outputs": [
    {
     "name": "stdout",
     "output_type": "stream",
     "text": [
      "['2014', '10', 'AA', 'American Airlines Inc.', 'TPA', 'Tampa FL: Tampa International', '397', '89', '44.79', '1.28', '15.62', '0', '27.31', '2', '0', '4886', '1847', '318', '743', '0', '1978'] [['2014', '10', 'AA', 'American Airlines Inc.', 'MSY', 'New Orleans LA: Louis Armstrong New Orleans International', '270', '59', '27.46', '3.92', '7.61', '0', '20.01', '6', '1', '3024', '1274', '186', '372', '0', '1192'], ['2014', '10', 'AA', 'American Airlines Inc.', 'TPA', 'Tampa FL: Tampa International', '397', '89', '44.79', '1.28', '15.62', '0', '27.31', '2', '0', '4886', '1847', '318', '743', '0', '1978']]\n"
     ]
    }
   ],
   "source": [
    "third_to_last = flight_delays[-3]\n",
    "end_slice = flight_delays[-4:-1]\n",
    "\n",
    "print(third_to_last, end_slice)"
   ]
  },
  {
   "cell_type": "markdown",
   "metadata": {
    "collapsed": true
   },
   "source": [
    "## 6: Indexing up to the end or from the beginning\n",
    "### Instructions\n",
    "Assign the first 10 rows of flight_delays to first_ten_rows.\n",
    "\n",
    "Assign the last 10 rows of flight_delays to last_ten_rows."
   ]
  },
  {
   "cell_type": "code",
   "execution_count": 15,
   "metadata": {
    "collapsed": true
   },
   "outputs": [],
   "source": [
    "# Leaving the first number in the slice blank means \"start from the beginning of the list, inclusive\"\n",
    "# This code will get the rows at index 0, 1, 2, 3, and 4.\n",
    "first_five_rows = flight_delays[:5]\n",
    "\n",
    "# We can also leave the last number blank to get all rows up to and including the last one.\n",
    "# This will get the rows at index -5, -4, -3, -2, and -1\n",
    "last_five_rows = flight_delays[-5:]"
   ]
  },
  {
   "cell_type": "markdown",
   "metadata": {},
   "source": [
    "### Answer"
   ]
  },
  {
   "cell_type": "code",
   "execution_count": 18,
   "metadata": {
    "collapsed": true
   },
   "outputs": [],
   "source": [
    "first_ten_rows = flight_delays[:10]\n",
    "last_ten_rows = flight_delays[-10:]"
   ]
  },
  {
   "cell_type": "code",
   "execution_count": 17,
   "metadata": {
    "collapsed": false
   },
   "outputs": [
    {
     "name": "stdout",
     "output_type": "stream",
     "text": [
      "[['2014', '10', 'AA', 'American Airlines Inc.', 'JFK', 'New York NY: John F. Kennedy International', '1293', '233', '63.33', '0.69', '117.86', '0', '51.12', '4', '6', '11770', '3508', '64', '5207', '0', '2991'], ['2014', '10', 'AA', 'American Airlines Inc.', 'LAX', 'Los Angeles CA: Los Angeles International', '2695', '401', '128.57', '15.93', '112.75', '4.54', '139.21', '6', '6', '23523', '8222', '1691', '4299', '228', '9083'], ['2014', '10', 'AA', 'American Airlines Inc.', 'DFW', 'Dallas/Fort Worth TX: Dallas/Fort Worth International', '13310', '2929', '555.62', '85.27', '1073.13', '1.79', '1213.2', '152', '64', '207040', '55348', '7329', '57265', '49', '87049'], ['2014', '10', 'AA', 'American Airlines Inc.', 'OGG', 'Kahului HI: Kahului Airport', '110', '13', '4.99', '0', '3.31', '0', '4.7', '0', '0', '516', '245', '0', '75', '0', '196'], ['2014', '10', 'AA', 'American Airlines Inc.', 'HNL', 'Honolulu HI: Honolulu International', '174', '26', '16.61', '0.33', '2.83', '0', '6.23', '0', '0', '1647', '938', '9', '100', '0', '600'], ['2014', '10', 'AA', 'American Airlines Inc.', 'SFO', 'San Francisco CA: San Francisco International', '971', '284', '66.23', '7.16', '131.3', '1', '78.31', '3', '4', '15932', '3499', '364', '6514', '101', '5454'], ['2014', '10', 'AA', 'American Airlines Inc.', 'ATL', 'Atlanta GA: Hartsfield-Jackson Atlanta International', '363', '87', '43.88', '2.85', '18.56', '0', '21.72', '3', '2', '5032', '2141', '272', '1093', '0', '1526'], ['2014', '10', 'AA', 'American Airlines Inc.', 'BOS', 'Boston MA: Logan International', '1010', '265', '64.9', '4.45', '125.52', '0.8', '69.32', '9', '1', '15787', '3347', '270', '7005', '94', '5071'], ['2014', '10', 'AA', 'American Airlines Inc.', 'ORD', \"Chicago IL: Chicago O'Hare International\", '4419', '1626', '158.35', '14.84', '1073.66', '0.21', '378.94', '49', '4', '96666', '10221', '1282', '60924', '12', '24227'], ['2014', '10', 'AA', 'American Airlines Inc.', 'LBB', 'Lubbock TX: Lubbock Preston Smith International', '59', '19', '7.1', '1.35', '2.18', '0', '8.37', '1', '0', '1325', '341', '44', '132', '0', '808']] []\n"
     ]
    }
   ],
   "source": [
    "print(first_ten_rows, last_ten_rows)"
   ]
  },
  {
   "cell_type": "markdown",
   "metadata": {},
   "source": [
    "## 7: Finding the percentage of delayed flights\n",
    "### Instructions\n",
    "Sum together the values in the \"arr_del15\" column. This is the total number of arriving flights in each airport that were delayed more than 15 minutes.\n",
    "\n",
    "Then, divide the number of delayed flights by total_arriving_flights. Assign the result to delayed_percentage."
   ]
  },
  {
   "cell_type": "code",
   "execution_count": 20,
   "metadata": {
    "collapsed": true
   },
   "outputs": [],
   "source": [
    "def column_number_from_name(column_name):\n",
    "    column_number = None\n",
    "    for i, column in enumerate(column_names):\n",
    "        if column == column_name:\n",
    "            column_nudef column_number_from_name(column_name):\n",
    "    column_number = None\n",
    "    for i, column in enumerate(column_names):\n",
    "        if column == column_name:\n",
    "            column_number = i\n",
    "    return column_number\n",
    "\n",
    "# Get the column number of the arr_flight column\n",
    "# This column counts the total number of arriving flights for a carrier in a given airport\n",
    "arr_flights_column = column_number_from_name(\"arr_flights\")\n",
    "\n",
    "# Extract all of the values in the column using a list comprehension\n",
    "# We need to convert the values to float because they are strings initially\n",
    "arr_flights = [float(row[arr_flights_column]) for row in flight_delays]\n",
    "\n",
    "# Now we can use the sum() function to add together all of the values.\n",
    "total_arriving_flights = sum(arr_flights)mber = i\n",
    "    return column_number\n",
    "\n",
    "# Get the column number of the arr_flight column\n",
    "# This column counts the total number of arriving flights for a carrier in a given airport\n",
    "arr_flights_column = column_number_from_name(\"arr_flights\")\n",
    "\n",
    "# Extract all of the values in the column using a list comprehension\n",
    "# We need to convert the values to float because they are strings initially\n",
    "arr_flights = [float(row[arr_flights_column]) for row in flight_delays]\n",
    "\n",
    "# Now we can use the sum() function to add together all of the values.\n",
    "total_arriving_flights = sum(arr_flights)"
   ]
  },
  {
   "cell_type": "markdown",
   "metadata": {},
   "source": [
    "### Answer"
   ]
  },
  {
   "cell_type": "code",
   "execution_count": 36,
   "metadata": {
    "collapsed": false
   },
   "outputs": [
    {
     "name": "stdout",
     "output_type": "stream",
     "text": [
      "[233.0, 401.0, 2929.0, 13.0, 26.0, 284.0, 87.0, 265.0, 1626.0, 19.0, 57.0, 186.0, 148.0, 108.0, 112.0, 43.0, 17.0, 117.0, 41.0, 210.0, 154.0, 75.0, 26.0, 77.0, 22.0, 86.0, 98.0, 42.0, 54.0, 95.0, 428.0, 45.0, 57.0, 41.0, 3.0, 31.0, 59.0, 89.0, 51.0, 50.0]\n"
     ]
    }
   ],
   "source": [
    "arr_del15 = [float(row[column_number_from_name(\"arr_del15\")]) for row in flight_delays]\n",
    "print(arr_del15)\n",
    "total_arr_del15 = sum(arr_del15)\n",
    "delayed_percentage = total_arr_del15/total_arriving_flights"
   ]
  },
  {
   "cell_type": "code",
   "execution_count": 37,
   "metadata": {
    "collapsed": false
   },
   "outputs": [
    {
     "name": "stdout",
     "output_type": "stream",
     "text": [
      "0.22718773373223636\n"
     ]
    }
   ],
   "source": [
    "print(delayed_percentage)"
   ]
  },
  {
   "cell_type": "markdown",
   "metadata": {},
   "source": [
    "## 8: Finding the average delay time\n",
    "### Instructions\n",
    "Find the sum of the \"arr_delay\" column.\n",
    "\n",
    "Then, divide it by the sum of the \"arr_del15\" column to get the average number of minutes a plane was delayed.\n",
    "\n",
    "Assign the result to average_delay_time."
   ]
  },
  {
   "cell_type": "code",
   "execution_count": 38,
   "metadata": {
    "collapsed": true
   },
   "outputs": [],
   "source": [
    "def column_number_from_name(column_name):\n",
    "    column_number = None\n",
    "    for i, column in enumerate(column_names):\n",
    "        if column == column_name:\n",
    "            column_number = i\n",
    "    return column_number\n",
    "\n",
    "average_delay_time = None"
   ]
  },
  {
   "cell_type": "markdown",
   "metadata": {},
   "source": [
    "### Answer"
   ]
  },
  {
   "cell_type": "code",
   "execution_count": 40,
   "metadata": {
    "collapsed": false
   },
   "outputs": [
    {
     "name": "stdout",
     "output_type": "stream",
     "text": [
      "61.24656084656085\n"
     ]
    }
   ],
   "source": [
    "sum_arr_delay = sum([float(row[column_number_from_name(\"arr_delay\")]) for row in flight_delays])\n",
    "arr_del15 = [float(row[column_number_from_name(\"arr_del15\")]) for row in flight_delays]\n",
    "sum_arr_del15 = sum(arr_del15)\n",
    "average_delay_time = sum_arr_delay/sum_arr_del15\n",
    "print(average_delay_time)"
   ]
  },
  {
   "cell_type": "markdown",
   "metadata": {},
   "source": [
    "## 9: Making a function to calculate the delay\n",
    "### Instructions\n",
    "Make a function that takes a column name as input, and returns the column sum.\n",
    "\n",
    "Then use the function to take the sum of the \"weather_delay\" column, and divide it by the sum of the \"arr_del15\" column.\n",
    "\n",
    "Assign the result to average_weather_delay_time."
   ]
  },
  {
   "cell_type": "code",
   "execution_count": 41,
   "metadata": {
    "collapsed": true
   },
   "outputs": [],
   "source": [
    "def column_number_from_name(column_name):\n",
    "    column_number = None\n",
    "    for i, column in enumerate(column_names):\n",
    "        if column == column_name:\n",
    "            column_number = i\n",
    "    return column_number"
   ]
  },
  {
   "cell_type": "code",
   "execution_count": null,
   "metadata": {
    "collapsed": true
   },
   "outputs": [],
   "source": [
    "def sum_column(column_name):\n",
    "    column_number = column_number_from_name(column_name)\n",
    "    column = [float(_[column_number]) for _ in flight_delays]\n",
    "    return sum(column)\n",
    "\n",
    "weather_delay_sum = sum_column(\"weather_delay\")\n",
    "arr_del15_sum = sum_column(\"arr_del15\")\n",
    "average_weather"
   ]
  }
 ],
 "metadata": {
  "kernelspec": {
   "display_name": "Python 3",
   "language": "python",
   "name": "python3"
  },
  "language_info": {
   "codemirror_mode": {
    "name": "ipython",
    "version": 3
   },
   "file_extension": ".py",
   "mimetype": "text/x-python",
   "name": "python",
   "nbconvert_exporter": "python",
   "pygments_lexer": "ipython3",
   "version": "3.5.1"
  }
 },
 "nbformat": 4,
 "nbformat_minor": 0
}
