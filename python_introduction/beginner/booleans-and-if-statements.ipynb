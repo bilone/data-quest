{
 "cells": [
  {
   "cell_type": "markdown",
   "metadata": {},
   "source": [
    "## 1: Booleans\n",
    "### Instructions\n",
    "Assign the value True to the variable cat and the value False to the variable dog. Then use the print() function and the type() function to display the type for cat.\n",
    "### Answer"
   ]
  },
  {
   "cell_type": "code",
   "execution_count": 1,
   "metadata": {
    "collapsed": false
   },
   "outputs": [
    {
     "name": "stdout",
     "output_type": "stream",
     "text": [
      "<class 'bool'>\n"
     ]
    }
   ],
   "source": [
    "cat = True\n",
    "dog = False\n",
    "\n",
    "print(type(cat))"
   ]
  },
  {
   "cell_type": "markdown",
   "metadata": {},
   "source": [
    "## 2: Boolean operators\n",
    "### Instructions\n",
    "Use the Boolean operators to determine if the following pairs of values are equivalent:\n",
    "\n",
    "* first element of cities and the string \"Albuquerque\". Assign the resulting Boolean value to first_alb\n",
    "* second element of cities and the string \"Albuquerque\". Assign the resulting Boolean value to second_alb\n",
    "* first element of cities and the last element in cities. Assign the resulting Boolean value to first_last"
   ]
  },
  {
   "cell_type": "code",
   "execution_count": 13,
   "metadata": {
    "collapsed": false
   },
   "outputs": [],
   "source": [
    "from cities import cities"
   ]
  },
  {
   "cell_type": "code",
   "execution_count": 14,
   "metadata": {
    "collapsed": false
   },
   "outputs": [
    {
     "name": "stdout",
     "output_type": "stream",
     "text": [
      "['Albuquerque', 'Anaheim', 'Anchorage', 'Arlington', 'Atlanta', 'Aurora', 'Austin', 'Bakersfield', 'Baltimore', 'Boston', 'Buffalo', 'Charlotte-Mecklenburg', 'Cincinnati', 'Cleveland', 'Colorado Springs', 'Corpus Christi', 'Dallas', 'Denver', 'Detroit', 'El Paso', 'Fort Wayne', 'Fort Worth', 'Fresno', 'Greensboro', 'Henderson', 'Houston', 'Indianapolis', 'Jacksonville', 'Jersey City', 'Kansas City', 'Las Vegas', 'Lexington', 'Lincoln', 'Long Beach', 'Los Angeles', 'Louisville Metro', 'Memphis', 'Mesa', 'Miami', 'Milwaukee', 'Minneapolis', 'Mobile', 'Nashville', 'New Orleans', 'New York', 'Newark', 'Oakland', 'Oklahoma City', 'Omaha', 'Philadelphia', 'Phoenix', 'Pittsburgh', 'Plano', 'Portland', 'Raleigh', 'Riverside', 'Sacramento', 'San Antonio', 'San Diego', 'San Francisco', 'San Jose', 'Santa Ana', 'Seattle', 'St. Louis', 'St. Paul', 'Stockton', 'Tampa', 'Toledo', 'Tucson', 'Tulsa', 'Virginia Beach', 'Washington', 'Wichita']\n"
     ]
    }
   ],
   "source": [
    "print(cities)\n",
    "first_alb = cities[0] == 'Albuquerque'\n",
    "second_alb = cities[1] == 'Albuquerque'\n",
    "first_last = cities[0] == cities[-1]"
   ]
  },
  {
   "cell_type": "code",
   "execution_count": 15,
   "metadata": {
    "collapsed": false
   },
   "outputs": [
    {
     "name": "stdout",
     "output_type": "stream",
     "text": [
      "True False False\n"
     ]
    }
   ],
   "source": [
    "print(first_alb, second_alb, first_last)"
   ]
  },
  {
   "cell_type": "markdown",
   "metadata": {},
   "source": [
    "## 3: Booleans with greater than\n",
    "### Instructions\n",
    "The variable crime_rates is a list of integers containing the crime rates from the dataset. Perform the following comparisons:\n",
    "\n",
    "* evaluate if the first element in crime_rates is larger than the integer 500, assign the Boolean result to first_500\n",
    "* evaluate if the first element in crime_rates is larger than or equal to 749, assign the Boolean result to first_749\n",
    "* evaluate if the first element in crime_rates is greater than or equal to the last element in crime_rates, assign the Boolean result to first_last\n",
    "\n",
    "### Answer\n"
   ]
  },
  {
   "cell_type": "code",
   "execution_count": 16,
   "metadata": {
    "collapsed": false
   },
   "outputs": [
    {
     "name": "stdout",
     "output_type": "stream",
     "text": [
      "[749, 371, 828, 503, 1379, 425, 408, 542, 1405, 835, 1288, 647, 974, 1383, 455, 658, 675, 615, 2122, 423, 362, 587, 543, 563, 168, 992, 1185, 617, 734, 1263, 784, 352, 397, 575, 481, 598, 1750, 399, 1172, 1294, 992, 522, 1216, 815, 639, 1154, 1993, 919, 594, 1160, 636, 752, 130, 517, 423, 443, 738, 503, 413, 704, 363, 401, 597, 1776, 722, 1548, 616, 1171, 724, 990, 169, 1177, 742]\n"
     ]
    }
   ],
   "source": [
    "crime_rates = [749, 371, 828, 503, 1379, 425, 408, 542, 1405, 835, 1288, 647, 974, 1383, 455, 658, 675, 615, 2122, 423, 362, 587, 543, 563, 168, 992, 1185, 617, 734, 1263, 784, 352, 397, 575, 481, 598, 1750, 399, 1172, 1294, 992, 522, 1216, 815, 639, 1154, 1993, 919, 594, 1160, 636, 752, 130, 517, 423, 443, 738, 503, 413, 704, 363, 401, 597, 1776, 722, 1548, 616, 1171, 724, 990, 169, 1177, 742]\n",
    "print(crime_rates)\n",
    "\n",
    "first = crime_rates[0]\n",
    "first_500 = first > 500\n",
    "first_749 = first >= 749\n",
    "first_last = first >= crime_rates[-1]\n"
   ]
  },
  {
   "cell_type": "code",
   "execution_count": 17,
   "metadata": {
    "collapsed": false
   },
   "outputs": [
    {
     "name": "stdout",
     "output_type": "stream",
     "text": [
      "True True True\n"
     ]
    }
   ],
   "source": [
    "print(first_500, first_749, first_last)"
   ]
  },
  {
   "cell_type": "markdown",
   "metadata": {},
   "source": [
    "## 4: Booleans with less than\n",
    "### Instructions\n",
    "The variable crime_rates is a list containing the crime rates from the dataset as integers. Perform the following comparisons:\n",
    "* determine if the second element in crime_rates is smaller than the integer 500, assign the Boolean result to second_500\n",
    "* determine if the second element in crime_rates is smaller than or equal to 371, assign the Boolean result to second_371\n",
    "* determine if the second element in crime_rates is smaller than or equal to the last element in crime_rates, assign the Boolean result to second_last\n",
    "\n",
    "### Answer"
   ]
  },
  {
   "cell_type": "code",
   "execution_count": 18,
   "metadata": {
    "collapsed": true
   },
   "outputs": [],
   "source": [
    "second = crime_rates[1]\n",
    "second_500 = second < 500\n",
    "second_371 = second <= 371\n",
    "second_last = second <= crime_rates[-1]"
   ]
  },
  {
   "cell_type": "code",
   "execution_count": 19,
   "metadata": {
    "collapsed": false
   },
   "outputs": [
    {
     "name": "stdout",
     "output_type": "stream",
     "text": [
      "True True True\n"
     ]
    }
   ],
   "source": [
    "print(second_500, second_371, second_last)"
   ]
  },
  {
   "cell_type": "markdown",
   "metadata": {},
   "source": [
    "## 5: If statements\n",
    "### Instructions\n",
    "Determine if the third element in cities is equivalent to the string \"Anchorage\". If it is equivalent, change the variable result to 1.\n",
    "### Answer"
   ]
  },
  {
   "cell_type": "code",
   "execution_count": 20,
   "metadata": {
    "collapsed": true
   },
   "outputs": [],
   "source": [
    "result = 0\n",
    "\n",
    "if cities[2] == u\"Anchorage\":\n",
    "    result = 1"
   ]
  },
  {
   "cell_type": "code",
   "execution_count": 21,
   "metadata": {
    "collapsed": true
   },
   "outputs": [],
   "source": [
    "assert result == 1"
   ]
  },
  {
   "cell_type": "markdown",
   "metadata": {},
   "source": [
    "## 6: Nesting if statements\n",
    "### Instructions\n",
    "\n",
    "Nest if statements in the following order:\n",
    "\n",
    "* first one checks if the first element in crime_rates is larger than 500\n",
    "* second one checks if the second element in crime_rates is larger than 300\n",
    "* if both statements evaluate to True, assign the value 3 to the variable results\n",
    "\n",
    "### Answer"
   ]
  },
  {
   "cell_type": "code",
   "execution_count": 23,
   "metadata": {
    "collapsed": true
   },
   "outputs": [],
   "source": [
    "reqults = 0\n",
    "\n",
    "if crime_rates[0] > 500:\n",
    "    if crime_rates[0] > 300:\n",
    "        results = 3"
   ]
  },
  {
   "cell_type": "markdown",
   "metadata": {},
   "source": [
    "## 7: If statements and for loops\n",
    "### Instructions\n",
    "\n",
    "Create a new list, five_hundred_list, that contains only the elements from crime_rates that are greater than 500. To accomplish this, you'll need a for loop and an if statement:\n",
    "\n",
    "* the for loop specifies which list we want to iterate over and the name of the iterator variable (we use cr in our answer)\n",
    "* the if statement determines if the current element (cr) is larger than 500\n",
    "  * if the current element (cr) is larger than 500, use the append() method to add it to five_hundred_list\n",
    "\n",
    "### Answer"
   ]
  },
  {
   "cell_type": "code",
   "execution_count": 27,
   "metadata": {
    "collapsed": true
   },
   "outputs": [],
   "source": [
    "five_hundred_list = []\n",
    "\n",
    "for cr in crime_rates:\n",
    "    if cr > 500:\n",
    "        five_hundred_list.append(cr)"
   ]
  },
  {
   "cell_type": "code",
   "execution_count": 28,
   "metadata": {
    "collapsed": false
   },
   "outputs": [],
   "source": [
    "assert all([_>500 for _ in five_hundred_list])"
   ]
  },
  {
   "cell_type": "markdown",
   "metadata": {},
   "source": [
    "## 8: Find the highest crime rate\n",
    "### Instructions\n",
    "\n",
    "Now [...] we can find the highest crime rate. crime_rates is a list of integers where each integer is a crime rate.\n",
    "\n",
    "One strategy is to:\n",
    "\n",
    "* assign the value at index 0 from crime_rates to a new integer variable called highest\n",
    "* use a for loop to compare each value in crime_rates to highest and assign that value to highest if it's larger\n",
    "\n",
    "Find the largest integer in crime_rates using the strategy we just discussed and assign that value to the variable highest.\n",
    "\n",
    "### Answer"
   ]
  },
  {
   "cell_type": "code",
   "execution_count": 30,
   "metadata": {
    "collapsed": false
   },
   "outputs": [
    {
     "name": "stdout",
     "output_type": "stream",
     "text": [
      "[749, 371, 828, 503, 1379, 425, 408, 542, 1405, 835, 1288, 647, 974, 1383, 455, 658, 675, 615, 2122, 423, 362, 587, 543, 563, 168, 992, 1185, 617, 734, 1263, 784, 352, 397, 575, 481, 598, 1750, 399, 1172, 1294, 992, 522, 1216, 815, 639, 1154, 1993, 919, 594, 1160, 636, 752, 130, 517, 423, 443, 738, 503, 413, 704, 363, 401, 597, 1776, 722, 1548, 616, 1171, 724, 990, 169, 1177, 742]\n"
     ]
    }
   ],
   "source": [
    "print(crime_rates)\n",
    "highest = crime_rates[0]\n",
    "\n",
    "for cr in crime_rates:\n",
    "    if cr > highest:\n",
    "        highest = cr"
   ]
  },
  {
   "cell_type": "code",
   "execution_count": null,
   "metadata": {
    "collapsed": true
   },
   "outputs": [],
   "source": []
  }
 ],
 "metadata": {
  "kernelspec": {
   "display_name": "Python 3",
   "language": "python",
   "name": "python3"
  },
  "language_info": {
   "codemirror_mode": {
    "name": "ipython",
    "version": 3
   },
   "file_extension": ".py",
   "mimetype": "text/x-python",
   "name": "python",
   "nbconvert_exporter": "python",
   "pygments_lexer": "ipython3",
   "version": "3.5.1"
  }
 },
 "nbformat": 4,
 "nbformat_minor": 0
}
