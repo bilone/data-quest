{
 "cells": [
  {
   "cell_type": "markdown",
   "metadata": {},
   "source": [
    "## 2: Writing a while loop\n",
    "### Instructions\n",
    "Create a while loop that tests if b is greater than 5. If it is, the loop body should print b out, then subtract one from it."
   ]
  },
  {
   "cell_type": "code",
   "execution_count": 1,
   "metadata": {
    "collapsed": false
   },
   "outputs": [
    {
     "name": "stdout",
     "output_type": "stream",
     "text": [
      "3\n",
      "4\n",
      "5\n"
     ]
    }
   ],
   "source": [
    "x = 3\n",
    "# The loop body will execute three times.  Once when x == 3, once when x == 4, and once when x == 5.\n",
    "# Then x < 6 will evaluate to False, and it will stop.\n",
    "# 3, 4, and 5 will be printed out.\n",
    "while x < 6:\n",
    "    print(x)\n",
    "    # Using += is a shorter way of saying x = x + 1.  It will add one to x.\n",
    "    x += 1\n",
    "\n",
    "b = 10"
   ]
  },
  {
   "cell_type": "markdown",
   "metadata": {},
   "source": [
    "### Answer"
   ]
  },
  {
   "cell_type": "code",
   "execution_count": 2,
   "metadata": {
    "collapsed": false
   },
   "outputs": [
    {
     "name": "stdout",
     "output_type": "stream",
     "text": [
      "10\n",
      "9\n",
      "8\n",
      "7\n",
      "6\n"
     ]
    }
   ],
   "source": [
    "while b > 5:\n",
    "    print(b)\n",
    "    b -= 1"
   ]
  },
  {
   "cell_type": "markdown",
   "metadata": {},
   "source": [
    "## 3: Using the break keyword\n",
    "### Instructions\n",
    "Let's say we want two \"Bengal\" tigers from available_tigers for our nature reserve.\n",
    "\n",
    "Write a for loop that increments tiger_count when it finds one, and breaks after finding two."
   ]
  },
  {
   "cell_type": "code",
   "execution_count": 3,
   "metadata": {
    "collapsed": true
   },
   "outputs": [],
   "source": [
    "available_count = 0\n",
    "desired_dog = \"Great Dane\"\n",
    "available_dogs = [\"Labrador\", \"Poodle\", \"Sheepdog\", \"Great Dane\", \"Pomeranian\", \"Great Dane\", \"Collie\"]\n",
    "\n",
    "# Let's say we are searching for two dogs of the same breed to adopt.\n",
    "# We'll loop through the dogs.\n",
    "for dog in available_dogs:\n",
    "    # If our desired dog is found.\n",
    "    if dog == desired_dog:\n",
    "        # Increment the counter.\n",
    "        available_count += 1\n",
    "        # We only want two dogs, so we can stop searching after we find them.\n",
    "        if available_count == 2:\n",
    "            break\n",
    "\n",
    "tiger_count = 0\n",
    "desired_tiger = \"Bengal\"\n",
    "available_tigers = [\"Bengal\", \"Dressed up poodle\", \"Siberian\", \"Sumatran\", \"Bengal\", \"Housecat\", \"Hobbes\"]"
   ]
  },
  {
   "cell_type": "markdown",
   "metadata": {},
   "source": [
    "### Answer"
   ]
  },
  {
   "cell_type": "code",
   "execution_count": 6,
   "metadata": {
    "collapsed": true
   },
   "outputs": [],
   "source": [
    "for t in available_tigers:\n",
    "    if t == \"Bengal\":\n",
    "        tiger_count += 1\n",
    "    if tiger_count == 2:\n",
    "        break"
   ]
  }
 ],
 "metadata": {
  "kernelspec": {
   "display_name": "Python 3",
   "language": "python",
   "name": "python3"
  },
  "language_info": {
   "codemirror_mode": {
    "name": "ipython",
    "version": 3
   },
   "file_extension": ".py",
   "mimetype": "text/x-python",
   "name": "python",
   "nbconvert_exporter": "python",
   "pygments_lexer": "ipython3",
   "version": "3.5.1"
  }
 },
 "nbformat": 4,
 "nbformat_minor": 0
}
