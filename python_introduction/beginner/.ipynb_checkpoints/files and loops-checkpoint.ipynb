{
 "cells": [
  {
   "cell_type": "markdown",
   "metadata": {},
   "source": [
    "## 2: Opening files\n",
    "### Instructions\n",
    "Use the open() function to create a File object. The name of the file is \"crime_rates.csv\" and we want the file to be accessed in read mode (\"r\"). Assign this File object to the variable f.\n",
    "### Answer"
   ]
  },
  {
   "cell_type": "code",
   "execution_count": 7,
   "metadata": {
    "collapsed": false
   },
   "outputs": [
    {
     "name": "stdout",
     "output_type": "stream",
     "text": [
      "<_io.TextIOWrapper name='test.txt' mode='r' encoding='UTF-8'>\n"
     ]
    }
   ],
   "source": [
    "! touch test.txt\n",
    "a = open(\"test.txt\", \"r\")\n",
    "print(a)\n",
    "f = open(\"crime_rates.csv\", \"r\")"
   ]
  },
  {
   "cell_type": "markdown",
   "metadata": {},
   "source": [
    "## 3: Reading in files\n",
    "### Instructions\n",
    "Run the **read()** method on the File object **f** to return the *string* representation of **crime_rates.csv**. Assign the resulting *string* to the variable **data**."
   ]
  },
  {
   "cell_type": "code",
   "execution_count": 9,
   "metadata": {
    "collapsed": false
   },
   "outputs": [],
   "source": [
    "f = open(\"crime_rates.csv\", \"r\")\n",
    "data = f.read()"
   ]
  },
  {
   "cell_type": "code",
   "execution_count": 10,
   "metadata": {
    "collapsed": false
   },
   "outputs": [
    {
     "name": "stdout",
     "output_type": "stream",
     "text": [
      "Albuquerque,749\n",
      "Anaheim,371\n",
      "Anchorage,828\n",
      "Arlington,503\n",
      "Atlanta,1379\n",
      "Aurora,425\n",
      "Austin,408\n",
      "Bakersfield,542\n",
      "Baltimore,1405\n",
      "Boston,835\n",
      "Buffalo,1288\n",
      "Charlotte-Mecklenburg,647\n",
      "Cincinnati,974\n",
      "Cleveland,1383\n",
      "Colorado Springs,455\n",
      "Corpus Christi,658\n",
      "Dallas,675\n",
      "Denver,615\n",
      "Detroit,2122\n",
      "El Paso,423\n",
      "Fort Wayne,362\n",
      "Fort Worth,587\n",
      "Fresno,543\n",
      "Greensboro,563\n",
      "Henderson,168\n",
      "Houston,992\n",
      "Indianapolis,1185\n",
      "Jacksonville,617\n",
      "Jersey City,734\n",
      "Kansas City,1263\n",
      "Las Vegas,784\n",
      "Lexington,352\n",
      "Lincoln,397\n",
      "Long Beach,575\n",
      "Los Angeles,481\n",
      "Louisville Metro,598\n",
      "Memphis,1750\n",
      "Mesa,399\n",
      "Miami,1172\n",
      "Milwaukee,1294\n",
      "Minneapolis,992\n",
      "Mobile,522\n",
      "Nashville,1216\n",
      "New Orleans,815\n",
      "New York,639\n",
      "Newark,1154\n",
      "Oakland,1993\n",
      "Oklahoma City,919\n",
      "Omaha,594\n",
      "Philadelphia,1160\n",
      "Phoenix,636\n",
      "Pittsburgh,752\n",
      "Plano,130\n",
      "Portland,517\n",
      "Raleigh,423\n",
      "Riverside,443\n",
      "Sacramento,738\n",
      "San Antonio,503\n",
      "San Diego,413\n",
      "San Francisco,704\n",
      "San Jose,363\n",
      "Santa Ana,401\n",
      "Seattle,597\n",
      "St. Louis,1776\n",
      "St. Paul,722\n",
      "Stockton,1548\n",
      "Tampa,616\n",
      "Toledo,1171\n",
      "Tucson,724\n",
      "Tulsa,990\n",
      "Virginia Beach,169\n",
      "Washington,1177\n",
      "Wichita,742\n",
      "\n"
     ]
    }
   ],
   "source": [
    "print(data)"
   ]
  },
  {
   "cell_type": "markdown",
   "metadata": {},
   "source": [
    "## 4: Splitting\n",
    "### Instructions\n",
    "Split the string object data on the new-line character \"\\n\" and store the result in a variable named rows. Then use the print() function to display the first 5 elements in rows.\n",
    "### Answer"
   ]
  },
  {
   "cell_type": "code",
   "execution_count": 11,
   "metadata": {
    "collapsed": false
   },
   "outputs": [
    {
     "name": "stdout",
     "output_type": "stream",
     "text": [
      "['john', 'plastic', 'joe']\n",
      "['How much wood', 'can a woodchuck chuck', 'if a woodchuck', 'can chuck wood?']\n",
      "['Albuquerque,749', 'Anaheim,371', 'Anchorage,828', 'Arlington,503', 'Atlanta,1379']\n"
     ]
    }
   ],
   "source": [
    "# We can split a string into a list.\n",
    "sample = \"john,plastic,joe\"\n",
    "split_list = sample.split(\",\")\n",
    "print(split_list)\n",
    "\n",
    "# Here's another example.\n",
    "string_two = \"How much wood\\ncan a woodchuck chuck\\nif a woodchuck\\ncan chuck wood?\"\n",
    "split_string_two = string_two.split('\\n')\n",
    "print(split_string_two)\n",
    "\n",
    "# Code from previous cells\n",
    "f = open('crime_rates.csv', 'r')\n",
    "data = f.read()\n",
    "rows = data.split('\\n')\n",
    "print(rows[0:5])"
   ]
  },
  {
   "cell_type": "markdown",
   "metadata": {},
   "source": [
    "## 5: Loops\n",
    "### Instructions\n",
    "...\n",
    "### Answer"
   ]
  },
  {
   "cell_type": "markdown",
   "metadata": {},
   "source": [
    "## 6: Practice, loops\n",
    "### Instructions\n",
    "The variable ten_rows contains the first 10 elements in rows. Write a for loop that iterates over each element in ten_rows and uses the print() function to display each element.\n",
    "### Answer"
   ]
  },
  {
   "cell_type": "code",
   "execution_count": 12,
   "metadata": {
    "collapsed": false
   },
   "outputs": [
    {
     "name": "stdout",
     "output_type": "stream",
     "text": [
      "Albuquerque,749\n",
      "Anaheim,371\n",
      "Anchorage,828\n",
      "Arlington,503\n",
      "Atlanta,1379\n",
      "Aurora,425\n",
      "Austin,408\n",
      "Bakersfield,542\n",
      "Baltimore,1405\n",
      "Boston,835\n"
     ]
    }
   ],
   "source": [
    "ten_rows = rows[0:10]\n",
    "for row in ten_rows:\n",
    "    print(row)"
   ]
  },
  {
   "cell_type": "markdown",
   "metadata": {},
   "source": [
    "## 7: List of lists\n",
    "### Instructions\n",
    "For now, explore and run the code we dissected in this step in the code cell below\n",
    "### Answer"
   ]
  },
  {
   "cell_type": "code",
   "execution_count": 13,
   "metadata": {
    "collapsed": false
   },
   "outputs": [
    {
     "name": "stdout",
     "output_type": "stream",
     "text": [
      "[['Albuquerque', '749'], ['Anaheim', '371'], ['Anchorage', '828']]\n",
      "['Albuquerque', '749']\n",
      "['Anaheim', '371']\n",
      "['Anchorage', '828']\n",
      "['Albuquerque', '749']\n",
      "['Anaheim', '371']\n",
      "['Anchorage', '828']\n"
     ]
    }
   ],
   "source": [
    "three_rows = [\"Albuquerque,749\", \"Anaheim,371\", \"Anchorage,828\"]\n",
    "final_list = []\n",
    "for row in three_rows:\n",
    "    split_list = row.split(',')\n",
    "    final_list.append(split_list)\n",
    "print(final_list)\n",
    "for elem in final_list:\n",
    "    print(elem)\n",
    "print(final_list[0])\n",
    "print(final_list[1])\n",
    "print(final_list[2])"
   ]
  },
  {
   "cell_type": "markdown",
   "metadata": {},
   "source": [
    "## 8: Practice, splitting elements in a list\n",
    "Let's now convert the full dataset, rows, into a list of lists using the same logic from the step before.\n",
    "### Instructions\n",
    "Write a for loop that splits each element in rows on the comma delimiter and appends the resulting list to a new list named final_data. Then, display the first 5 elements in final_data using list slicing and the print() function.\n",
    "### Answer"
   ]
  },
  {
   "cell_type": "code",
   "execution_count": 16,
   "metadata": {
    "collapsed": false
   },
   "outputs": [
    {
     "name": "stdout",
     "output_type": "stream",
     "text": [
      "[['Albuquerque', '749'], ['Anaheim', '371'], ['Anchorage', '828'], ['Arlington', '503'], ['Atlanta', '1379']]\n"
     ]
    }
   ],
   "source": [
    "f = open('crime_rates.csv', 'r')\n",
    "data = f.read()\n",
    "rows = data.split('\\n')\n",
    "final_data = [row.split(\",\")\n",
    "              for row in rows]\n",
    "print(final_data[0:5])\n"
   ]
  },
  {
   "cell_type": "markdown",
   "metadata": {},
   "source": [
    "## 9: Accessing elements in a list of lists, the manual way\n",
    "### Instructions\n",
    "five_elements contains the first 5 elements from final_data. Create a list of strings named cities_list that contains the city names from each list in five_elements.\n",
    "### Answer"
   ]
  },
  {
   "cell_type": "code",
   "execution_count": 25,
   "metadata": {
    "collapsed": false
   },
   "outputs": [
    {
     "name": "stdout",
     "output_type": "stream",
     "text": [
      "[['Albuquerque', '749'], ['Anaheim', '371'], ['Anchorage', '828'], ['Arlington', '503'], ['Atlanta', '1379']]\n"
     ]
    }
   ],
   "source": [
    "five_elements = final_data[:5]\n",
    "print(five_elements)\n",
    "cities_list = [city for city,_ in five_elements]"
   ]
  },
  {
   "cell_type": "markdown",
   "metadata": {},
   "source": [
    "## 10: Looping through a list of lists\n",
    "### Instructions\n",
    "Create a list of strings named cities_list that contains just the city names from final_data. Recall that the city name is located at index 0 for each list in final_data.\n",
    "### Answer"
   ]
  },
  {
   "cell_type": "code",
   "execution_count": 27,
   "metadata": {
    "collapsed": true
   },
   "outputs": [],
   "source": [
    "crime_rates = []\n",
    "\n",
    "for row in five_elements:\n",
    "    # row is a list variable, not a string.\n",
    "    crime_rate = row[1]\n",
    "    # crime_rate is a string, the city name.\n",
    "    crime_rates.append(crime_rate)\n",
    "    \n",
    "cities_list = [row[0] for row in final_data]"
   ]
  },
  {
   "cell_type": "markdown",
   "metadata": {},
   "source": [
    "## 11: Practice\n",
    "### Instructions\n",
    "Create a list of integers named int_crime_rates that contains just the crime rates as integers from the list rows.\n",
    "\n",
    "First create an empty list and assign it to int_crime_rates. Then, write a for loop that iterates over rows that executes the following:\n",
    "\n",
    "* uses the split() method to convert each string in rows into a list on the comma delimiter\n",
    "* converts the value at index 1 from that list to an integer using the int() function\n",
    "* then uses the append() method to add each integer to int_crime_rates"
   ]
  },
  {
   "cell_type": "code",
   "execution_count": 28,
   "metadata": {
    "collapsed": false
   },
   "outputs": [
    {
     "name": "stdout",
     "output_type": "stream",
     "text": [
      "['Albuquerque,749', 'Anaheim,371', 'Anchorage,828', 'Arlington,503', 'Atlanta,1379']\n"
     ]
    }
   ],
   "source": [
    "f = open('crime_rates.csv', 'r')\n",
    "data = f.read()\n",
    "rows = data.split('\\n')\n",
    "print(rows[0:5])"
   ]
  },
  {
   "cell_type": "code",
   "execution_count": 32,
   "metadata": {
    "collapsed": false
   },
   "outputs": [
    {
     "name": "stdout",
     "output_type": "stream",
     "text": [
      "[749, 371, 828, 503, 1379, 425, 408, 542, 1405, 835, 1288, 647, 974, 1383, 455, 658, 675, 615, 2122, 423, 362, 587, 543, 563, 168, 992, 1185, 617, 734, 1263, 784, 352, 397, 575, 481, 598, 1750, 399, 1172, 1294, 992, 522, 1216, 815, 639, 1154, 1993, 919, 594, 1160, 636, 752, 130, 517, 423, 443, 738, 503, 413, 704, 363, 401, 597, 1776, 722, 1548, 616, 1171, 724, 990, 169, 1177, 742]\n"
     ]
    }
   ],
   "source": [
    "int_crime_rates = []\n",
    "\n",
    "for row in rows:\n",
    "    data = row.split(\",\")\n",
    "    if len(data) < 2:\n",
    "        continue\n",
    "    int_crime_rates.append(int(row.split(\",\")[1]))\n",
    "\n",
    "print(int_crime_rates)"
   ]
  },
  {
   "cell_type": "code",
   "execution_count": null,
   "metadata": {
    "collapsed": true
   },
   "outputs": [],
   "source": []
  },
  {
   "cell_type": "code",
   "execution_count": null,
   "metadata": {
    "collapsed": true
   },
   "outputs": [],
   "source": []
  }
 ],
 "metadata": {
  "kernelspec": {
   "display_name": "Python 3",
   "language": "python",
   "name": "python3"
  },
  "language_info": {
   "codemirror_mode": {
    "name": "ipython",
    "version": 3
   },
   "file_extension": ".py",
   "mimetype": "text/x-python",
   "name": "python",
   "nbconvert_exporter": "python",
   "pygments_lexer": "ipython3",
   "version": "3.5.1"
  }
 },
 "nbformat": 4,
 "nbformat_minor": 0
}
