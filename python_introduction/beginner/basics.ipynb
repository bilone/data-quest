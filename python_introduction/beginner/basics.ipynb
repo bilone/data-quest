{
 "cells": [
  {
   "cell_type": "markdown",
   "metadata": {},
   "source": [
    "## 3: Interface\n",
    "### Instructions\n",
    "The code below assigns the value 5 to the variable b. Add a new line below that assigns 6 to b."
   ]
  },
  {
   "cell_type": "code",
   "execution_count": 1,
   "metadata": {
    "collapsed": true
   },
   "outputs": [],
   "source": [
    "b = 5\n",
    "b = 6"
   ]
  },
  {
   "cell_type": "code",
   "execution_count": 2,
   "metadata": {
    "collapsed": true
   },
   "outputs": [],
   "source": [
    "assert b == 6"
   ]
  },
  {
   "cell_type": "markdown",
   "metadata": {},
   "source": [
    "## 4: Comments\n",
    "### Instructions\n",
    "Make your mark in the code by adding a comment."
   ]
  },
  {
   "cell_type": "code",
   "execution_count": 3,
   "metadata": {
    "collapsed": true
   },
   "outputs": [],
   "source": [
    "# Here's a comment!\n",
    "b = 5\n",
    "# Here's another comment! Neither of these comments are evaluated by Python!\n",
    "# this is my comment"
   ]
  },
  {
   "cell_type": "markdown",
   "metadata": {},
   "source": [
    "## 5: Print function\n",
    "### Instructions\n",
    "Use the print() function to display the value stored in b. Then, use the print() function to display the number 500."
   ]
  },
  {
   "cell_type": "code",
   "execution_count": 4,
   "metadata": {
    "collapsed": false
   },
   "outputs": [
    {
     "name": "stdout",
     "output_type": "stream",
     "text": [
      "6\n",
      "500\n"
     ]
    }
   ],
   "source": [
    "b = 6\n",
    "print(b)\n",
    "print(500)"
   ]
  },
  {
   "cell_type": "markdown",
   "metadata": {},
   "source": [
    "## 6: Types\n",
    "### Instructions\n",
    "Assign the integer value 100 to the variable named hundred_integer. Assign the string value \"hundred\" to the variable named hundred_string. Assign the float value 100.5 to the variable named hundred_float."
   ]
  },
  {
   "cell_type": "code",
   "execution_count": 5,
   "metadata": {
    "collapsed": true
   },
   "outputs": [],
   "source": [
    "# Integer\n",
    "i = 1\n",
    "# String\n",
    "s = \"Hello World\"\n",
    "# Float\n",
    "f = 55.55\n",
    "\n",
    "hundred_integer = 100\n",
    "hundred_string = \"hundred\"\n",
    "hundred_float = 100.5"
   ]
  },
  {
   "cell_type": "code",
   "execution_count": 6,
   "metadata": {
    "collapsed": true
   },
   "outputs": [],
   "source": [
    "assert hundred_integer == 100"
   ]
  },
  {
   "cell_type": "markdown",
   "metadata": {
    "collapsed": true
   },
   "source": [
    "## 7: Type function\n",
    "### Instructions\n",
    "Assign the type of 10 to c then use the print() function to display c."
   ]
  },
  {
   "cell_type": "code",
   "execution_count": 1,
   "metadata": {
    "collapsed": false
   },
   "outputs": [
    {
     "name": "stdout",
     "output_type": "stream",
     "text": [
      "<class 'int'>\n",
      "<class 'int'>\n"
     ]
    }
   ],
   "source": [
    "a = type(5)\n",
    "# The type is assigned to a. When you print the type, it is abbreviated to `str`\n",
    "print(a)\n",
    "\n",
    "c = type(10)\n",
    "print(c)"
   ]
  },
  {
   "cell_type": "markdown",
   "metadata": {},
   "source": [
    "## 8: Arithmetic operators\n",
    "### Instructions\n",
    "The variable five contains the integer value 5.\n",
    "\n",
    "Use the arithmetic operators and the variable five to perform calculations that result in 25. Assign to the variable twenty_five.\n",
    "\n",
    "Use the arithmetic operators and the variable five to perform calculations that result in -5. Assign to the variable negative_five."
   ]
  },
  {
   "cell_type": "code",
   "execution_count": 2,
   "metadata": {
    "collapsed": true
   },
   "outputs": [],
   "source": [
    "five = 5\n",
    "twenty_five = five * 5\n",
    "negative_five = -five\n",
    "assert twenty_five == 25\n",
    "assert negative_five == -5"
   ]
  },
  {
   "cell_type": "markdown",
   "metadata": {
    "collapsed": true
   },
   "source": [
    "## 9: Converting types\n",
    "### Instructions\n",
    "The variable eight contains the integer 8 and the variable ten contains the string \"10\". Convert eight to a string using the str() function and assign to str_eight. Then convert ten to an integer using the int() function and assign to int_ten."
   ]
  },
  {
   "cell_type": "code",
   "execution_count": 4,
   "metadata": {
    "collapsed": true
   },
   "outputs": [],
   "source": [
    "ten = \"10\"\n",
    "eight = 8\n",
    "\n",
    "int_ten = int(ten)\n",
    "str_eight = str(eight)"
   ]
  },
  {
   "cell_type": "code",
   "execution_count": 5,
   "metadata": {
    "collapsed": true
   },
   "outputs": [],
   "source": [
    "assert int_ten == 10\n",
    "assert str_eight == u\"8\""
   ]
  },
  {
   "cell_type": "markdown",
   "metadata": {},
   "source": [
    "## 11: Lists\n",
    "### Instructions\n",
    "Add new code that appends March to the list l, then appends April to the list, then displays that list, l, using the print() function."
   ]
  },
  {
   "cell_type": "code",
   "execution_count": 6,
   "metadata": {
    "collapsed": false
   },
   "outputs": [
    {
     "name": "stdout",
     "output_type": "stream",
     "text": [
      "<class 'list'>\n",
      "['January', 'February', 'March', 'April']\n"
     ]
    }
   ],
   "source": [
    "l = []\n",
    "\n",
    "# Print the type of `l` to confirm it's a list.\n",
    "print(type(l))\n",
    "l.append(\"January\")\n",
    "l.append(\"February\")\n",
    "l.append(\"March\")\n",
    "l.append(\"April\")\n",
    "print(l)"
   ]
  },
  {
   "cell_type": "markdown",
   "metadata": {},
   "source": [
    "## 12: Creating lists with values\n",
    "### Instructions\n",
    "Write a single line of code that creates a list years and fills it with the integer values 2010, 2011, 2012, 2013, and 2014, in that order."
   ]
  },
  {
   "cell_type": "code",
   "execution_count": 11,
   "metadata": {
    "collapsed": false
   },
   "outputs": [
    {
     "name": "stdout",
     "output_type": "stream",
     "text": [
      "[2010, 2011, 2012, 2013, 2014]\n"
     ]
    }
   ],
   "source": [
    "l = [\"January\", \"February\", \"March\", \"April\"]\n",
    "m = [0,1,2,3]\n",
    "years = [_ for _ in range(2010, 2015)]\n",
    "print(years)"
   ]
  },
  {
   "cell_type": "markdown",
   "metadata": {},
   "source": [
    "## 13: Multiple types in list\n",
    "### Instructions\n",
    "Create a list o that contains the following elements, in order:\n",
    "* \"Jan\" (string)\n",
    "* 5.0 (float)\n",
    "* 1.0 (float)\n",
    "* \"uary\" (string)\n",
    "* 10 (integer)"
   ]
  },
  {
   "cell_type": "code",
   "execution_count": 12,
   "metadata": {
    "collapsed": true
   },
   "outputs": [],
   "source": [
    "o = [u\"Jan\", 5., 1., u\"uary\", 10]"
   ]
  },
  {
   "cell_type": "code",
   "execution_count": 13,
   "metadata": {
    "collapsed": false
   },
   "outputs": [
    {
     "name": "stdout",
     "output_type": "stream",
     "text": [
      "['Jan', 5.0, 1.0, 'uary', 10]\n"
     ]
    }
   ],
   "source": [
    "print(o)"
   ]
  },
  {
   "cell_type": "markdown",
   "metadata": {},
   "source": [
    "## 14: List index\n",
    "### Instructions\n",
    "The list int_months contains the values 1 to 12. Select the value at index 4 and assign to the variable index_four. Then select the last value in the list and assign to last_value."
   ]
  },
  {
   "cell_type": "code",
   "execution_count": 14,
   "metadata": {
    "collapsed": true
   },
   "outputs": [],
   "source": [
    "int_months = [1, 2, 3, 4, 5, 6, 7, 8, 9, 10, 11, 12]\n",
    "index_four = int_months[4]\n",
    "last_value = int_months[-1]"
   ]
  },
  {
   "cell_type": "markdown",
   "metadata": {},
   "source": [
    "## 15: List length\n",
    "### Instructions\n",
    "Retrieve the second to last element from the list months and assign it to second_last. Then use the print() function to display second_last."
   ]
  },
  {
   "cell_type": "code",
   "execution_count": 15,
   "metadata": {
    "collapsed": true
   },
   "outputs": [],
   "source": [
    "months = [\"Jan\", \"Feb\", \"Mar\", \"Apr\", \"May\", \"Jun\", \"Jul\", \"Aug\", \"Sep\", \"Oct\", \"Nov\"]\n",
    "second_last = months[-2]"
   ]
  },
  {
   "cell_type": "markdown",
   "metadata": {},
   "source": [
    "## 16: List slicing\n",
    "### Instructions\n",
    "Use slicing to return a list named five_nine that contains the values from index 5 to index 9 (including the value at index 9). Then use the print() function to display the first 5 elements in months."
   ]
  },
  {
   "cell_type": "markdown",
   "metadata": {},
   "source": [
    "### Answer"
   ]
  },
  {
   "cell_type": "code",
   "execution_count": 18,
   "metadata": {
    "collapsed": false
   },
   "outputs": [
    {
     "name": "stdout",
     "output_type": "stream",
     "text": [
      "['Jan', 'Feb', 'Mar', 'Apr', 'May']\n"
     ]
    }
   ],
   "source": [
    "months = [\"Jan\", \"Feb\", \"Mar\", \"Apr\", \"May\", \"Jun\", \"Jul\", \"Aug\", \"Sept\", \"Oct\", \"Nov\", \"Dec\"]\n",
    "eight_eleven = months[8:12]\n",
    "ending_index = len(months)\n",
    "eight_eleven = months[8:ending_index]\n",
    "\n",
    "five_nine = months[5:10]\n",
    "print(months[:5])"
   ]
  },
  {
   "cell_type": "code",
   "execution_count": null,
   "metadata": {
    "collapsed": true
   },
   "outputs": [],
   "source": []
  }
 ],
 "metadata": {
  "kernelspec": {
   "display_name": "Python 3",
   "language": "python",
   "name": "python3"
  },
  "language_info": {
   "codemirror_mode": {
    "name": "ipython",
    "version": 3
   },
   "file_extension": ".py",
   "mimetype": "text/x-python",
   "name": "python",
   "nbconvert_exporter": "python",
   "pygments_lexer": "ipython3",
   "version": "3.5.1"
  }
 },
 "nbformat": 4,
 "nbformat_minor": 0
}
