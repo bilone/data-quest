{
 "cells": [
  {
   "cell_type": "markdown",
   "metadata": {},
   "source": [
    "## 2: Find the different genders\n",
    "### Instructions\n",
    "Loop through the rows in legislators, and extract the gender column (fourth column)\n",
    "\n",
    "Append the genders to genders_list.\n",
    "\n",
    "Then turn genders_list into a set, and assign it to unique_genders\n",
    "\n",
    "Finally, convert unique_genders back into a list, and assign it to unique_genders_list."
   ]
  },
  {
   "cell_type": "code",
   "execution_count": 4,
   "metadata": {
    "collapsed": false
   },
   "outputs": [
    {
     "name": "stdout",
     "output_type": "stream",
     "text": [
      "['Ford', 'Volvo', 'Audi', 'Ford', 'Volvo']\n",
      "{'Ford', 'Audi', 'Volvo'}\n",
      "Ford\n"
     ]
    }
   ],
   "source": [
    "# We can use the set() function to convert lists into sets.\n",
    "# A set is a data type, just like a list, but it only contains each value once.\n",
    "car_makers = [\"Ford\", \"Volvo\", \"Audi\", \"Ford\", \"Volvo\"]\n",
    "\n",
    "# Volvo and ford are duplicates\n",
    "print(car_makers)\n",
    "\n",
    "# Converting to a set\n",
    "unique_car_makers = set(car_makers)\n",
    "print(unique_car_makers)\n",
    "\n",
    "# We can't index sets, so we need to convert back into a list first.\n",
    "unique_cars_list = list(unique_car_makers)\n",
    "print(unique_cars_list[0])\n",
    "\n",
    "genders_list = []\n",
    "unique_genders = set()\n",
    "unique_genders_list = []"
   ]
  },
  {
   "cell_type": "code",
   "execution_count": 5,
   "metadata": {
    "collapsed": true
   },
   "outputs": [],
   "source": [
    "from legislators import legislators"
   ]
  },
  {
   "cell_type": "markdown",
   "metadata": {},
   "source": [
    "### Answer"
   ]
  },
  {
   "cell_type": "code",
   "execution_count": 6,
   "metadata": {
    "collapsed": true
   },
   "outputs": [],
   "source": [
    "genders_list = []\n",
    "\n",
    "for leg in legislators:\n",
    "    genders_list.append(leg[3])\n",
    "unique_genders = set(genders_list)\n",
    "unique_gender_list = list(unique_genders)"
   ]
  },
  {
   "cell_type": "code",
   "execution_count": 8,
   "metadata": {
    "collapsed": false
   },
   "outputs": [
    {
     "name": "stdout",
     "output_type": "stream",
     "text": [
      "['', 'M']\n"
     ]
    }
   ],
   "source": [
    "print(unique_gender_list)"
   ]
  },
  {
   "cell_type": "markdown",
   "metadata": {},
   "source": [
    "## 3: Replacing genders\n",
    "### Instructions\n",
    "Loop through the rows in legislators and replace any gender values of \"\" with \"M\"."
   ]
  },
  {
   "cell_type": "code",
   "execution_count": 9,
   "metadata": {
    "collapsed": true
   },
   "outputs": [],
   "source": [
    "for leg in legislators:\n",
    "    if leg[3] == '':\n",
    "        leg[3] = 'M'"
   ]
  },
  {
   "cell_type": "markdown",
   "metadata": {},
   "source": [
    "## 4: Parsing birth years\n",
    "### Instructions\n",
    "Loop through the rows in legislators\n",
    "\n",
    "Inside the loop, get the birthday column from the row, and split the birthday.\n",
    "\n",
    "After splitting the birthday, get the birth year, and append it to birth_years\n",
    "\n",
    "At the end, birth_years will contain the birth years of all the congresspeople in the data."
   ]
  },
  {
   "cell_type": "code",
   "execution_count": 11,
   "metadata": {
    "collapsed": false
   },
   "outputs": [
    {
     "name": "stdout",
     "output_type": "stream",
     "text": [
      "['1745', '1742', '1743', '1730', '1739', '', '1738', '1745', '1748', '1734', '1756', '', '1737', '1754', '1736', '', '1727', '1733', '1732', '1737', '1739', '1734', '1740', '1745', '1728', '', '1738', '1737', '1739', '1744', '', '1761', '1756', '1752', '1737', '1745', '1744', '1742', '1726', '', '1733', '1741', '', '1756', '', '1721', '', '1764', '', '1740', '1745', '1745', '', '1735', '1745', '', '1753', '1748', '1749', '1740', '1746', '1729', '', '', '1726', '1748', '1756', '', '1753', '', '', '1753', '', '1739', '', '1738', '1741', '1750', '1761', '', '1758', '1744', '1759', '1743', '1736', '', '1741', '1739', '', '1745', '1751', '1743', '1754', '1758', '1743', '1764', '1727', '1749', '1751', '1739', '1753', '', '1758', '1752', '', '1755', '1753', '1747', '', '1751', '1752', '1760', '1756', '', '1753', '1754', '1749', '1758', '1743', '', '1741', '1729', '1755', '', '1750', '1760', '1761', '1743', '1757', '1746', '1765', '', '1753', '1728', '', '', '', '', '1759', '', '1740', '1749', '1749', '1748', '1752', '', '', '', '1763', '', '1739', '', '', '1735', '', '1740']\n"
     ]
    }
   ],
   "source": [
    "birth_years = []\n",
    "\n",
    "for row in legislators:\n",
    "    birth_year = row[2].split(\"-\")[0]\n",
    "    birth_years.append(birth_year)\n",
    "print(birth_years)"
   ]
  },
  {
   "cell_type": "markdown",
   "metadata": {},
   "source": [
    "## 6: Practice with enumerate\n",
    "### Instructions\n",
    "Use a for loop to enumerate the ships list.\n",
    "\n",
    "In the body of the loop, print the ship at the current index, then the car at the current index.\n",
    "\n",
    "Make sure you have two separate print statements."
   ]
  },
  {
   "cell_type": "code",
   "execution_count": 12,
   "metadata": {
    "collapsed": false
   },
   "outputs": [
    {
     "name": "stdout",
     "output_type": "stream",
     "text": [
      "labrador\n",
      "labrador\n",
      "siamese\n",
      "poodle\n",
      "poodle\n",
      "persian\n",
      "collie\n",
      "collie\n",
      "somali\n",
      "Andrea Doria\n",
      "Ford Edsel\n",
      "Titanic\n",
      "Ford Pinto\n",
      "Lusitania\n",
      "Yugo\n"
     ]
    }
   ],
   "source": [
    "dogs = [\"labrador\", \"poodle\", \"collie\"]\n",
    "cats = [\"siamese\", \"persian\", \"somali\"]\n",
    "\n",
    "# Enumerate the dogs list, and print the values.\n",
    "for i, dog in enumerate(dogs):\n",
    "    # Will print the dog at the current loop iteration.\n",
    "    print(dog)\n",
    "    # This will equal dog.  Prints the dog at index i.\n",
    "    print(dogs[i])\n",
    "    # Print the cat at index i.\n",
    "    print(cats[i])\n",
    "\n",
    "ships = [\"Andrea Doria\", \"Titanic\", \"Lusitania\"]\n",
    "cars = [\"Ford Edsel\", \"Ford Pinto\", \"Yugo\"]\n",
    "\n",
    "for i, e in enumerate(ships):\n",
    "    print(e)\n",
    "    print(cars[i])"
   ]
  },
  {
   "cell_type": "markdown",
   "metadata": {},
   "source": [
    "## 7: Create a birth year column\n",
    "### Instructions\n",
    "Loop through the rows in legislators list, and append the corresponding value in birth_years to each row."
   ]
  },
  {
   "cell_type": "code",
   "execution_count": 14,
   "metadata": {
    "collapsed": false
   },
   "outputs": [
    {
     "name": "stdout",
     "output_type": "stream",
     "text": [
      "[['apple', 'monkey', 'cedar'], ['orange', 'dog', 'maple'], ['banana', 'cat', 'fig']]\n"
     ]
    }
   ],
   "source": [
    "lolists = [[\"apple\", \"monkey\"], [\"orange\", \"dog\"], [\"banana\", \"cat\"]]\n",
    "trees = [\"cedar\", \"maple\", \"fig\"]\n",
    "\n",
    "for i, row in enumerate(lolists):\n",
    "    row.append(trees[i])\n",
    "\n",
    "# Our list now has a new column containing the values from trees.\n",
    "print(lolists)\n",
    "\n",
    "# Legislators and birth_years have both been loaded in."
   ]
  },
  {
   "cell_type": "code",
   "execution_count": 15,
   "metadata": {
    "collapsed": true
   },
   "outputs": [],
   "source": [
    "for i, e in enumerate(legislators):\n",
    "    e.append(birth_years[i])"
   ]
  },
  {
   "cell_type": "markdown",
   "metadata": {},
   "source": [
    "## 9: Practice with list comprehensions\n",
    "Double all of the prices in apple_price, and assign the resulting list to apple_price_doubled.\n",
    "\n",
    "Subtract 100 from all of the prices in apple_price, and assign the resulting list to apple_price_lowered."
   ]
  },
  {
   "cell_type": "code",
   "execution_count": 16,
   "metadata": {
    "collapsed": true
   },
   "outputs": [],
   "source": [
    "# Define a list of lists\n",
    "data = [[\"tiger\", \"lion\"], [\"duck\", \"goose\"], [\"cardinal\", \"bluebird\"]]\n",
    "\n",
    "# Extract the first column from the list\n",
    "first_column = [row[0] for row in data]\n",
    "\n",
    "apple_price = [100, 101, 102, 105]"
   ]
  },
  {
   "cell_type": "code",
   "execution_count": 17,
   "metadata": {
    "collapsed": false
   },
   "outputs": [
    {
     "name": "stdout",
     "output_type": "stream",
     "text": [
      "[200, 202, 204, 210] [0, 1, 2, 5]\n"
     ]
    }
   ],
   "source": [
    "apple_price_doubled = [2*p for p in apple_price]\n",
    "apple_price_lowered = [p-100 for p in apple_price]\n",
    "\n",
    "print(apple_price_doubled, apple_price_lowered)"
   ]
  },
  {
   "cell_type": "code",
   "execution_count": null,
   "metadata": {
    "collapsed": true
   },
   "outputs": [],
   "source": []
  }
 ],
 "metadata": {
  "kernelspec": {
   "display_name": "Python 3",
   "language": "python",
   "name": "python3"
  },
  "language_info": {
   "codemirror_mode": {
    "name": "ipython",
    "version": 3
   },
   "file_extension": ".py",
   "mimetype": "text/x-python",
   "name": "python",
   "nbconvert_exporter": "python",
   "pygments_lexer": "ipython3",
   "version": "3.5.1"
  }
 },
 "nbformat": 4,
 "nbformat_minor": 0
}
